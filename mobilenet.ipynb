{
  "cells": [
    {
      "cell_type": "code",
      "execution_count": null,
      "metadata": {
        "id": "QF9Kas-9QxXJ"
      },
      "outputs": [],
      "source": [
        "import os\n",
        "import cv2\n",
        "import numpy as np\n",
        "import matplotlib.pyplot as plt\n",
        "from tqdm.notebook import tqdm\n",
        "import pandas as pd\n",
        "from keras.utils import plot_model\n",
        "from keras import models\n",
        "from keras import layers\n",
        "from sklearn.model_selection import train_test_split\n",
        "from sklearn.metrics import f1_score, roc_curve, auc, precision_score, accuracy_score, confusion_matrix"
      ]
    },
    {
      "cell_type": "code",
      "execution_count": null,
      "metadata": {
        "id": "agdrXBjkQxXL"
      },
      "outputs": [],
      "source": [
        "def read_image(filepath):\n",
        "    return cv2.imread(os.path.join(data_dir, filepath))\n",
        "\n",
        "def resize_image(image, image_size):\n",
        "    return cv2.resize(image.copy(), image_size, interpolation = cv2.INTER_AREA)"
      ]
    },
    {
      "cell_type": "code",
      "execution_count": null,
      "metadata": {
        "id": "NR52IU74QxXL"
      },
      "outputs": [],
      "source": [
        "disease_types=['COVID', 'NonCOVID']\n",
        "data_dir = 'E:/DATA'\n",
        "train_dir = os.path.join(data_dir)"
      ]
    },
    {
      "cell_type": "code",
      "execution_count": null,
      "metadata": {
        "id": "DWYN5rxiQxXL"
      },
      "outputs": [],
      "source": [
        "train_data = []\n",
        "for defects_id, sp in enumerate(disease_types):\n",
        "    for file in os.listdir(os.path.join(train_dir, sp)):\n",
        "        train_data.append(['{}/{}'.format(sp, file), defects_id, sp])\n",
        "train = pd.DataFrame(train_data, columns=['File', 'DiseaseID','Disease Type'])"
      ]
    },
    {
      "cell_type": "code",
      "execution_count": null,
      "metadata": {
        "id": "8Jib2k7pQxXL",
        "outputId": "d5db15c1-3730-4696-c5ee-7e02648d53f4"
      },
      "outputs": [
        {
          "data": {
            "text/html": [
              "<div>\n",
              "<style scoped>\n",
              "    .dataframe tbody tr th:only-of-type {\n",
              "        vertical-align: middle;\n",
              "    }\n",
              "\n",
              "    .dataframe tbody tr th {\n",
              "        vertical-align: top;\n",
              "    }\n",
              "\n",
              "    .dataframe thead th {\n",
              "        text-align: right;\n",
              "    }\n",
              "</style>\n",
              "<table border=\"1\" class=\"dataframe\">\n",
              "  <thead>\n",
              "    <tr style=\"text-align: right;\">\n",
              "      <th></th>\n",
              "      <th>File</th>\n",
              "      <th>DiseaseID</th>\n",
              "      <th>Disease Type</th>\n",
              "    </tr>\n",
              "  </thead>\n",
              "  <tbody>\n",
              "    <tr>\n",
              "      <th>0</th>\n",
              "      <td>COVID/13_Bjorke_1.png</td>\n",
              "      <td>0</td>\n",
              "      <td>COVID</td>\n",
              "    </tr>\n",
              "    <tr>\n",
              "      <th>1</th>\n",
              "      <td>COVID/13_Bjorke_10.png</td>\n",
              "      <td>0</td>\n",
              "      <td>COVID</td>\n",
              "    </tr>\n",
              "    <tr>\n",
              "      <th>2</th>\n",
              "      <td>COVID/13_Bjorke_100.png</td>\n",
              "      <td>0</td>\n",
              "      <td>COVID</td>\n",
              "    </tr>\n",
              "    <tr>\n",
              "      <th>3</th>\n",
              "      <td>COVID/13_Bjorke_11.png</td>\n",
              "      <td>0</td>\n",
              "      <td>COVID</td>\n",
              "    </tr>\n",
              "    <tr>\n",
              "      <th>4</th>\n",
              "      <td>COVID/13_Bjorke_12.png</td>\n",
              "      <td>0</td>\n",
              "      <td>COVID</td>\n",
              "    </tr>\n",
              "    <tr>\n",
              "      <th>...</th>\n",
              "      <td>...</td>\n",
              "      <td>...</td>\n",
              "      <td>...</td>\n",
              "    </tr>\n",
              "    <tr>\n",
              "      <th>9995</th>\n",
              "      <td>NonCOVID/16_Morozov_study_0121_15.png</td>\n",
              "      <td>1</td>\n",
              "      <td>NonCOVID</td>\n",
              "    </tr>\n",
              "    <tr>\n",
              "      <th>9996</th>\n",
              "      <td>NonCOVID/16_Morozov_study_0121_16.png</td>\n",
              "      <td>1</td>\n",
              "      <td>NonCOVID</td>\n",
              "    </tr>\n",
              "    <tr>\n",
              "      <th>9997</th>\n",
              "      <td>NonCOVID/16_Morozov_study_0121_17.png</td>\n",
              "      <td>1</td>\n",
              "      <td>NonCOVID</td>\n",
              "    </tr>\n",
              "    <tr>\n",
              "      <th>9998</th>\n",
              "      <td>NonCOVID/16_Morozov_study_0121_18.png</td>\n",
              "      <td>1</td>\n",
              "      <td>NonCOVID</td>\n",
              "    </tr>\n",
              "    <tr>\n",
              "      <th>9999</th>\n",
              "      <td>NonCOVID/16_Morozov_study_0121_19.png</td>\n",
              "      <td>1</td>\n",
              "      <td>NonCOVID</td>\n",
              "    </tr>\n",
              "  </tbody>\n",
              "</table>\n",
              "<p>10000 rows × 3 columns</p>\n",
              "</div>"
            ],
            "text/plain": [
              "                                       File  DiseaseID Disease Type\n",
              "0                     COVID/13_Bjorke_1.png          0        COVID\n",
              "1                    COVID/13_Bjorke_10.png          0        COVID\n",
              "2                   COVID/13_Bjorke_100.png          0        COVID\n",
              "3                    COVID/13_Bjorke_11.png          0        COVID\n",
              "4                    COVID/13_Bjorke_12.png          0        COVID\n",
              "...                                     ...        ...          ...\n",
              "9995  NonCOVID/16_Morozov_study_0121_15.png          1     NonCOVID\n",
              "9996  NonCOVID/16_Morozov_study_0121_16.png          1     NonCOVID\n",
              "9997  NonCOVID/16_Morozov_study_0121_17.png          1     NonCOVID\n",
              "9998  NonCOVID/16_Morozov_study_0121_18.png          1     NonCOVID\n",
              "9999  NonCOVID/16_Morozov_study_0121_19.png          1     NonCOVID\n",
              "\n",
              "[10000 rows x 3 columns]"
            ]
          },
          "execution_count": 42,
          "metadata": {},
          "output_type": "execute_result"
        }
      ],
      "source": [
        "train.head(10000)"
      ]
    },
    {
      "cell_type": "code",
      "execution_count": null,
      "metadata": {
        "id": "v9tZEgImQxXM",
        "outputId": "687cdb82-c190-4ef3-bb14-7179e786ba10",
        "colab": {
          "referenced_widgets": [
            "b1759056341a4703bc33de5892f5da83"
          ]
        }
      },
      "outputs": [
        {
          "data": {
            "application/vnd.jupyter.widget-view+json": {
              "model_id": "b1759056341a4703bc33de5892f5da83",
              "version_major": 2,
              "version_minor": 0
            },
            "text/plain": [
              "HBox(children=(FloatProgress(value=0.0, max=14486.0), HTML(value='')))"
            ]
          },
          "metadata": {},
          "output_type": "display_data"
        },
        {
          "name": "stdout",
          "output_type": "stream",
          "text": [
            "\n",
            "(14486, 64, 64, 3)\n",
            "(14486,)\n"
          ]
        }
      ],
      "source": [
        "IMAGE_SIZE = 64\n",
        "X = np.zeros((train.shape[0], IMAGE_SIZE, IMAGE_SIZE, 3))\n",
        "for i, file in tqdm(enumerate(train['File'].values), total = len(train)):\n",
        "    image = read_image(file)\n",
        "    if image is not None:\n",
        "        X[i] = resize_image(image, (IMAGE_SIZE, IMAGE_SIZE))\n",
        "X /= 255.\n",
        "y = train['DiseaseID'].values\n",
        "print(X.shape)\n",
        "print(y.shape)"
      ]
    },
    {
      "cell_type": "code",
      "execution_count": null,
      "metadata": {
        "id": "_vfWdz_bQxXM"
      },
      "outputs": [],
      "source": [
        "x_train, x_test, y_train, y_test = train_test_split(X, y, test_size=0.2, stratify=y, random_state = 1)"
      ]
    },
    {
      "cell_type": "code",
      "execution_count": null,
      "metadata": {
        "id": "YQg5ol36QxXM",
        "outputId": "16ab4753-2b71-4ca8-f52f-8a9a64083b53"
      },
      "outputs": [
        {
          "name": "stdout",
          "output_type": "stream",
          "text": [
            "WARNING:tensorflow:`input_shape` is undefined or non-square, or `rows` is not in [128, 160, 192, 224]. Weights for input shape (224, 224) will be loaded as the default.\n",
            "Downloading data from https://storage.googleapis.com/tensorflow/keras-applications/mobilenet/mobilenet_1_0_224_tf_no_top.h5\n",
            "17227776/17225924 [==============================] - 52s 3us/step\n"
          ]
        }
      ],
      "source": [
        "from keras.applications import MobileNet\n",
        "\n",
        "conv_base = MobileNet(weights='imagenet',\n",
        "                  include_top=False,\n",
        "                  input_shape=(64, 64, 3))"
      ]
    },
    {
      "cell_type": "code",
      "execution_count": null,
      "metadata": {
        "id": "SqQyJs6zQxXN",
        "outputId": "9f4366c9-e9b9-423e-d862-5cf4519ba254"
      },
      "outputs": [
        {
          "name": "stdout",
          "output_type": "stream",
          "text": [
            "Model: \"mobilenet_1.00_224\"\n",
            "_________________________________________________________________\n",
            "Layer (type)                 Output Shape              Param #   \n",
            "=================================================================\n",
            "input_4 (InputLayer)         [(None, 64, 64, 3)]       0         \n",
            "_________________________________________________________________\n",
            "conv1 (Conv2D)               (None, 32, 32, 32)        864       \n",
            "_________________________________________________________________\n",
            "conv1_bn (BatchNormalization (None, 32, 32, 32)        128       \n",
            "_________________________________________________________________\n",
            "conv1_relu (ReLU)            (None, 32, 32, 32)        0         \n",
            "_________________________________________________________________\n",
            "conv_dw_1 (DepthwiseConv2D)  (None, 32, 32, 32)        288       \n",
            "_________________________________________________________________\n",
            "conv_dw_1_bn (BatchNormaliza (None, 32, 32, 32)        128       \n",
            "_________________________________________________________________\n",
            "conv_dw_1_relu (ReLU)        (None, 32, 32, 32)        0         \n",
            "_________________________________________________________________\n",
            "conv_pw_1 (Conv2D)           (None, 32, 32, 64)        2048      \n",
            "_________________________________________________________________\n",
            "conv_pw_1_bn (BatchNormaliza (None, 32, 32, 64)        256       \n",
            "_________________________________________________________________\n",
            "conv_pw_1_relu (ReLU)        (None, 32, 32, 64)        0         \n",
            "_________________________________________________________________\n",
            "conv_pad_2 (ZeroPadding2D)   (None, 33, 33, 64)        0         \n",
            "_________________________________________________________________\n",
            "conv_dw_2 (DepthwiseConv2D)  (None, 16, 16, 64)        576       \n",
            "_________________________________________________________________\n",
            "conv_dw_2_bn (BatchNormaliza (None, 16, 16, 64)        256       \n",
            "_________________________________________________________________\n",
            "conv_dw_2_relu (ReLU)        (None, 16, 16, 64)        0         \n",
            "_________________________________________________________________\n",
            "conv_pw_2 (Conv2D)           (None, 16, 16, 128)       8192      \n",
            "_________________________________________________________________\n",
            "conv_pw_2_bn (BatchNormaliza (None, 16, 16, 128)       512       \n",
            "_________________________________________________________________\n",
            "conv_pw_2_relu (ReLU)        (None, 16, 16, 128)       0         \n",
            "_________________________________________________________________\n",
            "conv_dw_3 (DepthwiseConv2D)  (None, 16, 16, 128)       1152      \n",
            "_________________________________________________________________\n",
            "conv_dw_3_bn (BatchNormaliza (None, 16, 16, 128)       512       \n",
            "_________________________________________________________________\n",
            "conv_dw_3_relu (ReLU)        (None, 16, 16, 128)       0         \n",
            "_________________________________________________________________\n",
            "conv_pw_3 (Conv2D)           (None, 16, 16, 128)       16384     \n",
            "_________________________________________________________________\n",
            "conv_pw_3_bn (BatchNormaliza (None, 16, 16, 128)       512       \n",
            "_________________________________________________________________\n",
            "conv_pw_3_relu (ReLU)        (None, 16, 16, 128)       0         \n",
            "_________________________________________________________________\n",
            "conv_pad_4 (ZeroPadding2D)   (None, 17, 17, 128)       0         \n",
            "_________________________________________________________________\n",
            "conv_dw_4 (DepthwiseConv2D)  (None, 8, 8, 128)         1152      \n",
            "_________________________________________________________________\n",
            "conv_dw_4_bn (BatchNormaliza (None, 8, 8, 128)         512       \n",
            "_________________________________________________________________\n",
            "conv_dw_4_relu (ReLU)        (None, 8, 8, 128)         0         \n",
            "_________________________________________________________________\n",
            "conv_pw_4 (Conv2D)           (None, 8, 8, 256)         32768     \n",
            "_________________________________________________________________\n",
            "conv_pw_4_bn (BatchNormaliza (None, 8, 8, 256)         1024      \n",
            "_________________________________________________________________\n",
            "conv_pw_4_relu (ReLU)        (None, 8, 8, 256)         0         \n",
            "_________________________________________________________________\n",
            "conv_dw_5 (DepthwiseConv2D)  (None, 8, 8, 256)         2304      \n",
            "_________________________________________________________________\n",
            "conv_dw_5_bn (BatchNormaliza (None, 8, 8, 256)         1024      \n",
            "_________________________________________________________________\n",
            "conv_dw_5_relu (ReLU)        (None, 8, 8, 256)         0         \n",
            "_________________________________________________________________\n",
            "conv_pw_5 (Conv2D)           (None, 8, 8, 256)         65536     \n",
            "_________________________________________________________________\n",
            "conv_pw_5_bn (BatchNormaliza (None, 8, 8, 256)         1024      \n",
            "_________________________________________________________________\n",
            "conv_pw_5_relu (ReLU)        (None, 8, 8, 256)         0         \n",
            "_________________________________________________________________\n",
            "conv_pad_6 (ZeroPadding2D)   (None, 9, 9, 256)         0         \n",
            "_________________________________________________________________\n",
            "conv_dw_6 (DepthwiseConv2D)  (None, 4, 4, 256)         2304      \n",
            "_________________________________________________________________\n",
            "conv_dw_6_bn (BatchNormaliza (None, 4, 4, 256)         1024      \n",
            "_________________________________________________________________\n",
            "conv_dw_6_relu (ReLU)        (None, 4, 4, 256)         0         \n",
            "_________________________________________________________________\n",
            "conv_pw_6 (Conv2D)           (None, 4, 4, 512)         131072    \n",
            "_________________________________________________________________\n",
            "conv_pw_6_bn (BatchNormaliza (None, 4, 4, 512)         2048      \n",
            "_________________________________________________________________\n",
            "conv_pw_6_relu (ReLU)        (None, 4, 4, 512)         0         \n",
            "_________________________________________________________________\n",
            "conv_dw_7 (DepthwiseConv2D)  (None, 4, 4, 512)         4608      \n",
            "_________________________________________________________________\n",
            "conv_dw_7_bn (BatchNormaliza (None, 4, 4, 512)         2048      \n",
            "_________________________________________________________________\n",
            "conv_dw_7_relu (ReLU)        (None, 4, 4, 512)         0         \n",
            "_________________________________________________________________\n",
            "conv_pw_7 (Conv2D)           (None, 4, 4, 512)         262144    \n",
            "_________________________________________________________________\n",
            "conv_pw_7_bn (BatchNormaliza (None, 4, 4, 512)         2048      \n",
            "_________________________________________________________________\n",
            "conv_pw_7_relu (ReLU)        (None, 4, 4, 512)         0         \n",
            "_________________________________________________________________\n",
            "conv_dw_8 (DepthwiseConv2D)  (None, 4, 4, 512)         4608      \n",
            "_________________________________________________________________\n",
            "conv_dw_8_bn (BatchNormaliza (None, 4, 4, 512)         2048      \n",
            "_________________________________________________________________\n",
            "conv_dw_8_relu (ReLU)        (None, 4, 4, 512)         0         \n",
            "_________________________________________________________________\n",
            "conv_pw_8 (Conv2D)           (None, 4, 4, 512)         262144    \n",
            "_________________________________________________________________\n",
            "conv_pw_8_bn (BatchNormaliza (None, 4, 4, 512)         2048      \n",
            "_________________________________________________________________\n",
            "conv_pw_8_relu (ReLU)        (None, 4, 4, 512)         0         \n",
            "_________________________________________________________________\n",
            "conv_dw_9 (DepthwiseConv2D)  (None, 4, 4, 512)         4608      \n",
            "_________________________________________________________________\n",
            "conv_dw_9_bn (BatchNormaliza (None, 4, 4, 512)         2048      \n",
            "_________________________________________________________________\n",
            "conv_dw_9_relu (ReLU)        (None, 4, 4, 512)         0         \n",
            "_________________________________________________________________\n",
            "conv_pw_9 (Conv2D)           (None, 4, 4, 512)         262144    \n",
            "_________________________________________________________________\n",
            "conv_pw_9_bn (BatchNormaliza (None, 4, 4, 512)         2048      \n",
            "_________________________________________________________________\n",
            "conv_pw_9_relu (ReLU)        (None, 4, 4, 512)         0         \n",
            "_________________________________________________________________\n",
            "conv_dw_10 (DepthwiseConv2D) (None, 4, 4, 512)         4608      \n",
            "_________________________________________________________________\n",
            "conv_dw_10_bn (BatchNormaliz (None, 4, 4, 512)         2048      \n",
            "_________________________________________________________________\n",
            "conv_dw_10_relu (ReLU)       (None, 4, 4, 512)         0         \n",
            "_________________________________________________________________\n",
            "conv_pw_10 (Conv2D)          (None, 4, 4, 512)         262144    \n",
            "_________________________________________________________________\n",
            "conv_pw_10_bn (BatchNormaliz (None, 4, 4, 512)         2048      \n",
            "_________________________________________________________________\n",
            "conv_pw_10_relu (ReLU)       (None, 4, 4, 512)         0         \n",
            "_________________________________________________________________\n",
            "conv_dw_11 (DepthwiseConv2D) (None, 4, 4, 512)         4608      \n",
            "_________________________________________________________________\n",
            "conv_dw_11_bn (BatchNormaliz (None, 4, 4, 512)         2048      \n",
            "_________________________________________________________________\n",
            "conv_dw_11_relu (ReLU)       (None, 4, 4, 512)         0         \n",
            "_________________________________________________________________\n",
            "conv_pw_11 (Conv2D)          (None, 4, 4, 512)         262144    \n",
            "_________________________________________________________________\n",
            "conv_pw_11_bn (BatchNormaliz (None, 4, 4, 512)         2048      \n",
            "_________________________________________________________________\n",
            "conv_pw_11_relu (ReLU)       (None, 4, 4, 512)         0         \n",
            "_________________________________________________________________\n",
            "conv_pad_12 (ZeroPadding2D)  (None, 5, 5, 512)         0         \n",
            "_________________________________________________________________\n",
            "conv_dw_12 (DepthwiseConv2D) (None, 2, 2, 512)         4608      \n",
            "_________________________________________________________________\n",
            "conv_dw_12_bn (BatchNormaliz (None, 2, 2, 512)         2048      \n",
            "_________________________________________________________________\n",
            "conv_dw_12_relu (ReLU)       (None, 2, 2, 512)         0         \n",
            "_________________________________________________________________\n",
            "conv_pw_12 (Conv2D)          (None, 2, 2, 1024)        524288    \n",
            "_________________________________________________________________\n",
            "conv_pw_12_bn (BatchNormaliz (None, 2, 2, 1024)        4096      \n",
            "_________________________________________________________________\n",
            "conv_pw_12_relu (ReLU)       (None, 2, 2, 1024)        0         \n",
            "_________________________________________________________________\n",
            "conv_dw_13 (DepthwiseConv2D) (None, 2, 2, 1024)        9216      \n",
            "_________________________________________________________________\n",
            "conv_dw_13_bn (BatchNormaliz (None, 2, 2, 1024)        4096      \n",
            "_________________________________________________________________\n",
            "conv_dw_13_relu (ReLU)       (None, 2, 2, 1024)        0         \n",
            "_________________________________________________________________\n",
            "conv_pw_13 (Conv2D)          (None, 2, 2, 1024)        1048576   \n",
            "_________________________________________________________________\n",
            "conv_pw_13_bn (BatchNormaliz (None, 2, 2, 1024)        4096      \n",
            "_________________________________________________________________\n",
            "conv_pw_13_relu (ReLU)       (None, 2, 2, 1024)        0         \n",
            "=================================================================\n",
            "Total params: 3,228,864\n",
            "Trainable params: 3,206,976\n",
            "Non-trainable params: 21,888\n",
            "_________________________________________________________________\n"
          ]
        }
      ],
      "source": [
        "conv_base.summary()"
      ]
    },
    {
      "cell_type": "code",
      "execution_count": null,
      "metadata": {
        "id": "O6bKrrnbQxXN"
      },
      "outputs": [],
      "source": [
        "conv_base.trainable = True"
      ]
    },
    {
      "cell_type": "code",
      "execution_count": null,
      "metadata": {
        "id": "PcS20jyXQxXN"
      },
      "outputs": [],
      "source": [
        "model = models.Sequential()\n",
        "model.add(conv_base)\n",
        "model.add(layers.Flatten())\n",
        "model.add(layers.Dense(128, activation='relu'))\n",
        "model.add(layers.Dense(64, activation='relu'))\n",
        "model.add(layers.Dense(32, activation='relu'))\n",
        "model.add(layers.Dense(1, activation='sigmoid'))"
      ]
    },
    {
      "cell_type": "code",
      "execution_count": null,
      "metadata": {
        "id": "60bWdJquQxXN",
        "outputId": "58f98ed9-2737-4a00-c78e-6689f8d70a47"
      },
      "outputs": [
        {
          "name": "stdout",
          "output_type": "stream",
          "text": [
            "Model: \"sequential_1\"\n",
            "_________________________________________________________________\n",
            "Layer (type)                 Output Shape              Param #   \n",
            "=================================================================\n",
            "mobilenet_1.00_224 (Function (None, 2, 2, 1024)        3228864   \n",
            "_________________________________________________________________\n",
            "flatten_1 (Flatten)          (None, 4096)              0         \n",
            "_________________________________________________________________\n",
            "dense_4 (Dense)              (None, 128)               524416    \n",
            "_________________________________________________________________\n",
            "dense_5 (Dense)              (None, 64)                8256      \n",
            "_________________________________________________________________\n",
            "dense_6 (Dense)              (None, 32)                2080      \n",
            "_________________________________________________________________\n",
            "dense_7 (Dense)              (None, 1)                 33        \n",
            "=================================================================\n",
            "Total params: 3,763,649\n",
            "Trainable params: 3,741,761\n",
            "Non-trainable params: 21,888\n",
            "_________________________________________________________________\n"
          ]
        }
      ],
      "source": [
        "model.summary()"
      ]
    },
    {
      "cell_type": "code",
      "execution_count": null,
      "metadata": {
        "id": "idZQyszBQxXN",
        "outputId": "406cd9df-d8e8-4b2f-96c9-af274ac85635"
      },
      "outputs": [
        {
          "name": "stdout",
          "output_type": "stream",
          "text": [
            "mobilenet_1.00_224 ==> True\n",
            "flatten_1 ==> True\n",
            "dense_4 ==> True\n",
            "dense_5 ==> True\n",
            "dense_6 ==> True\n",
            "dense_7 ==> True\n"
          ]
        }
      ],
      "source": [
        "for layer in model.layers :\n",
        "  print(layer.name , '==>' , layer.trainable)"
      ]
    },
    {
      "cell_type": "code",
      "execution_count": null,
      "metadata": {
        "id": "8UTGnYpKQxXO"
      },
      "outputs": [],
      "source": [
        "model.compile(optimizer='rmsprop', loss='binary_crossentropy', metrics=['accuracy'])"
      ]
    },
    {
      "cell_type": "code",
      "execution_count": null,
      "metadata": {
        "id": "fufdHKr6QxXO",
        "outputId": "cf0ad8a9-c154-47f5-9275-286320253c8f"
      },
      "outputs": [
        {
          "name": "stdout",
          "output_type": "stream",
          "text": [
            "Epoch 1/30\n",
            "32/32 [==============================] - 44s 1s/step - loss: 0.7939 - accuracy: 0.6960 - val_loss: 1.3390 - val_accuracy: 0.6540\n",
            "Epoch 2/30\n",
            "32/32 [==============================] - 29s 920ms/step - loss: 0.3268 - accuracy: 0.8729 - val_loss: 2.4911 - val_accuracy: 0.5487\n",
            "Epoch 3/30\n",
            "32/32 [==============================] - 30s 943ms/step - loss: 0.2510 - accuracy: 0.8972 - val_loss: 2.9284 - val_accuracy: 0.5643\n",
            "Epoch 4/30\n",
            "32/32 [==============================] - 31s 962ms/step - loss: 0.3372 - accuracy: 0.8514 - val_loss: 0.9032 - val_accuracy: 0.7463\n",
            "Epoch 5/30\n",
            "32/32 [==============================] - 31s 986ms/step - loss: 0.2888 - accuracy: 0.9065 - val_loss: 0.8839 - val_accuracy: 0.8136\n",
            "Epoch 6/30\n",
            "32/32 [==============================] - 31s 975ms/step - loss: 0.2407 - accuracy: 0.9110 - val_loss: 1.2040 - val_accuracy: 0.7998\n",
            "Epoch 7/30\n",
            "32/32 [==============================] - 32s 990ms/step - loss: 0.2276 - accuracy: 0.9187 - val_loss: 0.5655 - val_accuracy: 0.8827\n",
            "Epoch 8/30\n",
            "32/32 [==============================] - 31s 983ms/step - loss: 0.2549 - accuracy: 0.8994 - val_loss: 0.5668 - val_accuracy: 0.8982\n",
            "Epoch 9/30\n",
            "32/32 [==============================] - 34s 1s/step - loss: 0.1862 - accuracy: 0.9333 - val_loss: 0.6262 - val_accuracy: 0.8973\n",
            "Epoch 10/30\n",
            "32/32 [==============================] - 37s 1s/step - loss: 0.2027 - accuracy: 0.9283 - val_loss: 2.5621 - val_accuracy: 0.8205\n",
            "Epoch 11/30\n",
            "32/32 [==============================] - 38s 1s/step - loss: 0.1535 - accuracy: 0.9475 - val_loss: 2.3465 - val_accuracy: 0.8671\n",
            "Epoch 12/30\n",
            "32/32 [==============================] - 39s 1s/step - loss: 0.1407 - accuracy: 0.9582 - val_loss: 1.1181 - val_accuracy: 0.8956\n",
            "Epoch 13/30\n",
            "32/32 [==============================] - 36s 1s/step - loss: 0.1521 - accuracy: 0.9445 - val_loss: 1.6925 - val_accuracy: 0.8283\n",
            "Epoch 14/30\n",
            "32/32 [==============================] - 35s 1s/step - loss: 0.1690 - accuracy: 0.9430 - val_loss: 1.1060 - val_accuracy: 0.9154\n",
            "Epoch 15/30\n",
            "32/32 [==============================] - 34s 1s/step - loss: 0.1797 - accuracy: 0.9390 - val_loss: 0.8791 - val_accuracy: 0.9215\n",
            "Epoch 16/30\n",
            "32/32 [==============================] - 39s 1s/step - loss: 0.1148 - accuracy: 0.9637 - val_loss: 0.5181 - val_accuracy: 0.9387\n",
            "Epoch 17/30\n",
            "32/32 [==============================] - 35s 1s/step - loss: 0.1313 - accuracy: 0.9662 - val_loss: 0.7882 - val_accuracy: 0.9310\n",
            "Epoch 18/30\n",
            "32/32 [==============================] - 34s 1s/step - loss: 0.1232 - accuracy: 0.9572 - val_loss: 0.3430 - val_accuracy: 0.9474\n",
            "Epoch 19/30\n",
            "32/32 [==============================] - 35s 1s/step - loss: 0.1652 - accuracy: 0.9326 - val_loss: 0.4584 - val_accuracy: 0.9508\n",
            "Epoch 20/30\n",
            "32/32 [==============================] - 34s 1s/step - loss: 0.1220 - accuracy: 0.9558 - val_loss: 0.6703 - val_accuracy: 0.9129\n",
            "Epoch 21/30\n",
            "32/32 [==============================] - 34s 1s/step - loss: 0.1583 - accuracy: 0.9476 - val_loss: 0.5650 - val_accuracy: 0.9336\n",
            "Epoch 22/30\n",
            "32/32 [==============================] - 36s 1s/step - loss: 0.0871 - accuracy: 0.9696 - val_loss: 0.4874 - val_accuracy: 0.9396\n",
            "Epoch 23/30\n",
            "32/32 [==============================] - 36s 1s/step - loss: 0.1063 - accuracy: 0.9701 - val_loss: 0.6129 - val_accuracy: 0.9275\n",
            "Epoch 24/30\n",
            "32/32 [==============================] - 37s 1s/step - loss: 0.0567 - accuracy: 0.9846 - val_loss: 0.6498 - val_accuracy: 0.9387\n",
            "Epoch 25/30\n",
            "32/32 [==============================] - 34s 1s/step - loss: 0.1670 - accuracy: 0.9504 - val_loss: 0.3740 - val_accuracy: 0.9551\n",
            "Epoch 26/30\n",
            "32/32 [==============================] - 34s 1s/step - loss: 0.0780 - accuracy: 0.9706 - val_loss: 0.6177 - val_accuracy: 0.9284\n",
            "Epoch 27/30\n",
            "32/32 [==============================] - 32s 996ms/step - loss: 0.0830 - accuracy: 0.9747 - val_loss: 0.4493 - val_accuracy: 0.9577\n",
            "Epoch 28/30\n",
            "32/32 [==============================] - 32s 988ms/step - loss: 0.0872 - accuracy: 0.9689 - val_loss: 0.2624 - val_accuracy: 0.9491\n",
            "Epoch 29/30\n",
            "32/32 [==============================] - 32s 987ms/step - loss: 0.0994 - accuracy: 0.9692 - val_loss: 1.0051 - val_accuracy: 0.9077\n",
            "Epoch 30/30\n",
            "32/32 [==============================] - 32s 1s/step - loss: 0.0982 - accuracy: 0.9650 - val_loss: 0.6681 - val_accuracy: 0.9120\n"
          ]
        }
      ],
      "source": [
        "history = model.fit(x_train, y_train,\n",
        "                    batch_size=64, epochs=30,steps_per_epoch=32,\n",
        "                    verbose=1,validation_split=0.1)"
      ]
    },
    {
      "cell_type": "code",
      "execution_count": null,
      "metadata": {
        "id": "sBmSalEuQxXO",
        "outputId": "42e225ad-d4db-4dc4-e984-8b81df36b664"
      },
      "outputs": [
        {
          "data": {
            "text/plain": [
              "<matplotlib.legend.Legend at 0x1f2a66c0970>"
            ]
          },
          "execution_count": 36,
          "metadata": {},
          "output_type": "execute_result"
        },
        {
          "data": {
            "image/png": "[encoded data removed]",
            "text/plain": [
              "<Figure size 432x288 with 1 Axes>"
            ]
          },
          "metadata": {
            "needs_background": "light"
          },
          "output_type": "display_data"
        },
        {
          "data": {
            "image/png": "[encoded data removed]",
            "text/plain": [
              "<Figure size 432x288 with 1 Axes>"
            ]
          },
          "metadata": {
            "needs_background": "light"
          },
          "output_type": "display_data"
        }
      ],
      "source": [
        "import matplotlib.pyplot as plt\n",
        "%matplotlib inline\n",
        "acc = history.history['accuracy']\n",
        "val_acc = history.history['val_accuracy']\n",
        "loss = history.history['loss']\n",
        "val_loss = history.history['val_loss']\n",
        "\n",
        "epochs = range(len(acc))\n",
        "\n",
        "plt.plot(epochs, acc, 'bo', label='Training acc')\n",
        "plt.plot(epochs, val_acc, 'b', label='Validation acc')\n",
        "plt.title('Training and validation accuracy')\n",
        "plt.legend()\n",
        "\n",
        "plt.figure()\n",
        "\n",
        "plt.plot(epochs, loss, 'bo', label='Training loss')\n",
        "plt.plot(epochs, val_loss, 'b', label='Validation loss')\n",
        "plt.title('Training and validation loss')\n",
        "plt.legend()"
      ]
    },
    {
      "cell_type": "code",
      "execution_count": null,
      "metadata": {
        "id": "cWCdreeEQxXO"
      },
      "outputs": [],
      "source": [
        "y_pred = model.predict_classes(x_test)"
      ]
    },
    {
      "cell_type": "code",
      "execution_count": null,
      "metadata": {
        "id": "WHLXDi8KQxXO"
      },
      "outputs": [],
      "source": [
        "tn, fp, fn, tp = confusion_matrix(y_test, y_pred).ravel()"
      ]
    },
    {
      "cell_type": "code",
      "execution_count": null,
      "metadata": {
        "id": "j1qRRDOcQxXO",
        "outputId": "ca06afe7-273a-46a8-d7c5-78c11e5b88a7"
      },
      "outputs": [
        {
          "name": "stdout",
          "output_type": "stream",
          "text": [
            "f1 score =  0.913\n",
            "Precision =  0.841\n",
            "Test accuracy =  0.910\n",
            "Specificity =  0.829\n",
            "Sensitivity =  0.999\n"
          ]
        }
      ],
      "source": [
        "sp = tn/(tn+fp)\n",
        "sn = tp/(tp+fn)\n",
        "\n",
        "print('f1 score =  %.3f'%f1_score(y_test, y_pred))\n",
        "print('Precision =  %.3f'%precision_score(y_test, y_pred))\n",
        "print('Test accuracy =  %.3f'%accuracy_score(y_test, y_pred))\n",
        "print('Specificity =  %.3f'%sp)\n",
        "print('Sensitivity =  %.3f'%sn)"
      ]
    }
  ],
  "metadata": {
    "kernelspec": {
      "display_name": "Python 3",
      "language": "python",
      "name": "python3"
    },
    "language_info": {
      "codemirror_mode": {
        "name": "ipython",
        "version": 3
      },
      "file_extension": ".py",
      "mimetype": "text/x-python",
      "name": "python",
      "nbconvert_exporter": "python",
      "pygments_lexer": "ipython3",
      "version": "3.8.3"
    },
    "colab": {
      "provenance": []
    }
  },
  "nbformat": 4,
  "nbformat_minor": 0
}