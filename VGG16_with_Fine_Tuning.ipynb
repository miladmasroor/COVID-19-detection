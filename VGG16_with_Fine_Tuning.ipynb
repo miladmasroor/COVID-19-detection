{
  "nbformat": 4,
  "nbformat_minor": 0,
  "metadata": {
    "colab": {
      "name": "VGG16_with_Fine_Tuning.ipynb",
      "provenance": []
    },
    "kernelspec": {
      "name": "python3",
      "display_name": "Python 3"
    },
    "language_info": {
      "name": "python"
    },
    "accelerator": "GPU"
  },
  "cells": [
    {
      "cell_type": "code",
      "metadata": {
        "colab": {
          "base_uri": "https://localhost:8080/"
        },
        "id": "NpX0IC0i-jvh",
        "outputId": "c36a45ed-a1ef-4ec0-ec6b-117054ad30a2"
      },
      "source": [
        "!nvidia-smi #show the allocated GPU"
      ],
      "execution_count": 2,
      "outputs": [
        {
          "output_type": "stream",
          "text": [
            "Sun Apr 11 13:08:30 2021       \n",
            "+-----------------------------------------------------------------------------+\n",
            "| NVIDIA-SMI 460.67       Driver Version: 460.32.03    CUDA Version: 11.2     |\n",
            "|-------------------------------+----------------------+----------------------+\n",
            "| GPU  Name        Persistence-M| Bus-Id        Disp.A | Volatile Uncorr. ECC |\n",
            "| Fan  Temp  Perf  Pwr:Usage/Cap|         Memory-Usage | GPU-Util  Compute M. |\n",
            "|                               |                      |               MIG M. |\n",
            "|===============================+======================+======================|\n",
            "|   0  Tesla K80           Off  | 00000000:00:04.0 Off |                    0 |\n",
            "| N/A   69C    P8    33W / 149W |      0MiB / 11441MiB |      0%      Default |\n",
            "|                               |                      |                  N/A |\n",
            "+-------------------------------+----------------------+----------------------+\n",
            "                                                                               \n",
            "+-----------------------------------------------------------------------------+\n",
            "| Processes:                                                                  |\n",
            "|  GPU   GI   CI        PID   Type   Process name                  GPU Memory |\n",
            "|        ID   ID                                                   Usage      |\n",
            "|=============================================================================|\n",
            "|  No running processes found                                                 |\n",
            "+-----------------------------------------------------------------------------+\n"
          ],
          "name": "stdout"
        }
      ]
    },
    {
      "cell_type": "code",
      "metadata": {
        "colab": {
          "base_uri": "https://localhost:8080/"
        },
        "id": "URXAzMv3_Cmc",
        "outputId": "10660195-f82e-4146-e6ac-06d8fccd42e4"
      },
      "source": [
        "#Connect your Google Drive \n",
        "from google.colab import drive\n",
        "drive.mount('/content/drive')"
      ],
      "execution_count": 3,
      "outputs": [
        {
          "output_type": "stream",
          "text": [
            "Drive already mounted at /content/drive; to attempt to forcibly remount, call drive.mount(\"/content/drive\", force_remount=True).\n"
          ],
          "name": "stdout"
        }
      ]
    },
    {
      "cell_type": "code",
      "metadata": {
        "id": "g5RqT6Lz_OsP"
      },
      "source": [
        "import os, shutil\n",
        "base_dir = 'drive/My Drive/covidvsnoncovid'\n",
        "\n",
        "train_dir = os.path.join(base_dir, 'train')\n",
        "validation_dir = os.path.join(base_dir, 'validation')\n",
        "test_dir = os.path.join(base_dir, 'test')"
      ],
      "execution_count": 4,
      "outputs": []
    },
    {
      "cell_type": "code",
      "metadata": {
        "colab": {
          "base_uri": "https://localhost:8080/"
        },
        "id": "QvwJhdR2_THu",
        "outputId": "1df1b38b-a9a3-4771-c1ce-41ef896ded0e"
      },
      "source": [
        "from keras.preprocessing.image import ImageDataGenerator\n",
        "\n",
        "train_datagen = ImageDataGenerator(\n",
        "      rescale=1./255,\n",
        "      rotation_range=40,\n",
        "      width_shift_range=0.2,\n",
        "      height_shift_range=0.2,\n",
        "      shear_range=0.2,\n",
        "      zoom_range=0.2,\n",
        "      horizontal_flip=True,\n",
        "      fill_mode='nearest')\n",
        "\n",
        "# Note that the validation data should not be augmented!\n",
        "test_datagen = ImageDataGenerator(rescale=1./255)\n",
        "\n",
        "train_generator = train_datagen.flow_from_directory(\n",
        "        # This is the target directory\n",
        "        train_dir,\n",
        "        # All images will be resized to 150x150\n",
        "        target_size=(512, 512),\n",
        "        batch_size=20,\n",
        "        # Since we use binary_crossentropy loss, we need binary labels\n",
        "        class_mode='binary',\n",
        "        color_mode=\"grayscale\")\n",
        "\n",
        "validation_generator = test_datagen.flow_from_directory(\n",
        "        validation_dir,\n",
        "        target_size=(512, 512),\n",
        "        batch_size=20,\n",
        "        class_mode='binary',\n",
        "        color_mode=\"grayscale\")"
      ],
      "execution_count": 5,
      "outputs": [
        {
          "output_type": "stream",
          "text": [
            "Found 9000 images belonging to 2 classes.\n",
            "Found 2000 images belonging to 2 classes.\n"
          ],
          "name": "stdout"
        }
      ]
    },
    {
      "cell_type": "code",
      "metadata": {
        "id": "pwi1CsLV_dSa"
      },
      "source": [
        "from keras.applications import VGG16\n",
        "from keras.layers import Concatenate\n",
        "from keras.layers import Dropout, Flatten, Dense,Input\n",
        "img_size_target = 512\n",
        "img_input = Input(shape=(img_size_target, img_size_target, 1))\n",
        "img_conc = Concatenate()([img_input, img_input, img_input])  \n",
        "conv_base = VGG16(weights='imagenet',\n",
        "                  include_top=False,\n",
        "                  input_tensor=img_conc)"
      ],
      "execution_count": 6,
      "outputs": []
    },
    {
      "cell_type": "code",
      "metadata": {
        "colab": {
          "base_uri": "https://localhost:8080/"
        },
        "id": "YV5SUVeB_whO",
        "outputId": "f12839e0-a361-4737-9369-d66851f38222"
      },
      "source": [
        "conv_base.summary()"
      ],
      "execution_count": 7,
      "outputs": [
        {
          "output_type": "stream",
          "text": [
            "Model: \"vgg16\"\n",
            "__________________________________________________________________________________________________\n",
            "Layer (type)                    Output Shape         Param #     Connected to                     \n",
            "==================================================================================================\n",
            "input_1 (InputLayer)            [(None, 512, 512, 1) 0                                            \n",
            "__________________________________________________________________________________________________\n",
            "concatenate (Concatenate)       (None, 512, 512, 3)  0           input_1[0][0]                    \n",
            "                                                                 input_1[0][0]                    \n",
            "                                                                 input_1[0][0]                    \n",
            "__________________________________________________________________________________________________\n",
            "block1_conv1 (Conv2D)           (None, 512, 512, 64) 1792        concatenate[0][0]                \n",
            "__________________________________________________________________________________________________\n",
            "block1_conv2 (Conv2D)           (None, 512, 512, 64) 36928       block1_conv1[0][0]               \n",
            "__________________________________________________________________________________________________\n",
            "block1_pool (MaxPooling2D)      (None, 256, 256, 64) 0           block1_conv2[0][0]               \n",
            "__________________________________________________________________________________________________\n",
            "block2_conv1 (Conv2D)           (None, 256, 256, 128 73856       block1_pool[0][0]                \n",
            "__________________________________________________________________________________________________\n",
            "block2_conv2 (Conv2D)           (None, 256, 256, 128 147584      block2_conv1[0][0]               \n",
            "__________________________________________________________________________________________________\n",
            "block2_pool (MaxPooling2D)      (None, 128, 128, 128 0           block2_conv2[0][0]               \n",
            "__________________________________________________________________________________________________\n",
            "block3_conv1 (Conv2D)           (None, 128, 128, 256 295168      block2_pool[0][0]                \n",
            "__________________________________________________________________________________________________\n",
            "block3_conv2 (Conv2D)           (None, 128, 128, 256 590080      block3_conv1[0][0]               \n",
            "__________________________________________________________________________________________________\n",
            "block3_conv3 (Conv2D)           (None, 128, 128, 256 590080      block3_conv2[0][0]               \n",
            "__________________________________________________________________________________________________\n",
            "block3_pool (MaxPooling2D)      (None, 64, 64, 256)  0           block3_conv3[0][0]               \n",
            "__________________________________________________________________________________________________\n",
            "block4_conv1 (Conv2D)           (None, 64, 64, 512)  1180160     block3_pool[0][0]                \n",
            "__________________________________________________________________________________________________\n",
            "block4_conv2 (Conv2D)           (None, 64, 64, 512)  2359808     block4_conv1[0][0]               \n",
            "__________________________________________________________________________________________________\n",
            "block4_conv3 (Conv2D)           (None, 64, 64, 512)  2359808     block4_conv2[0][0]               \n",
            "__________________________________________________________________________________________________\n",
            "block4_pool (MaxPooling2D)      (None, 32, 32, 512)  0           block4_conv3[0][0]               \n",
            "__________________________________________________________________________________________________\n",
            "block5_conv1 (Conv2D)           (None, 32, 32, 512)  2359808     block4_pool[0][0]                \n",
            "__________________________________________________________________________________________________\n",
            "block5_conv2 (Conv2D)           (None, 32, 32, 512)  2359808     block5_conv1[0][0]               \n",
            "__________________________________________________________________________________________________\n",
            "block5_conv3 (Conv2D)           (None, 32, 32, 512)  2359808     block5_conv2[0][0]               \n",
            "__________________________________________________________________________________________________\n",
            "block5_pool (MaxPooling2D)      (None, 16, 16, 512)  0           block5_conv3[0][0]               \n",
            "==================================================================================================\n",
            "Total params: 14,714,688\n",
            "Trainable params: 14,714,688\n",
            "Non-trainable params: 0\n",
            "__________________________________________________________________________________________________\n"
          ],
          "name": "stdout"
        }
      ]
    },
    {
      "cell_type": "code",
      "metadata": {
        "id": "_b7wkAZZ_2PI"
      },
      "source": [
        "from keras import models\n",
        "from keras import layers\n",
        "model = models.Sequential()\n",
        "model.add(conv_base)\n",
        "model.add(layers.Flatten())\n",
        "model.add(layers.Dense(256, activation='relu'))\n",
        "model.add(layers.Dense(1, activation='sigmoid'))"
      ],
      "execution_count": 8,
      "outputs": []
    },
    {
      "cell_type": "code",
      "metadata": {
        "colab": {
          "base_uri": "https://localhost:8080/"
        },
        "id": "gEze99Mi_6Pw",
        "outputId": "c65156b7-28bd-401e-9075-e62b1e5595c4"
      },
      "source": [
        "model.summary()"
      ],
      "execution_count": 9,
      "outputs": [
        {
          "output_type": "stream",
          "text": [
            "Model: \"sequential\"\n",
            "_________________________________________________________________\n",
            "Layer (type)                 Output Shape              Param #   \n",
            "=================================================================\n",
            "vgg16 (Functional)           (None, 16, 16, 512)       14714688  \n",
            "_________________________________________________________________\n",
            "flatten (Flatten)            (None, 131072)            0         \n",
            "_________________________________________________________________\n",
            "dense (Dense)                (None, 256)               33554688  \n",
            "_________________________________________________________________\n",
            "dense_1 (Dense)              (None, 1)                 257       \n",
            "=================================================================\n",
            "Total params: 48,269,633\n",
            "Trainable params: 48,269,633\n",
            "Non-trainable params: 0\n",
            "_________________________________________________________________\n"
          ],
          "name": "stdout"
        }
      ]
    },
    {
      "cell_type": "code",
      "metadata": {
        "colab": {
          "base_uri": "https://localhost:8080/"
        },
        "id": "FRzIBZ71BGKR",
        "outputId": "49429ad0-c9eb-4a6f-9adc-a03b1e1621dd"
      },
      "source": [
        "for layer in conv_base.layers : \n",
        "  print(layer.name , '==>' , layer.trainable)"
      ],
      "execution_count": 10,
      "outputs": [
        {
          "output_type": "stream",
          "text": [
            "input_1 ==> True\n",
            "concatenate ==> True\n",
            "block1_conv1 ==> True\n",
            "block1_conv2 ==> True\n",
            "block1_pool ==> True\n",
            "block2_conv1 ==> True\n",
            "block2_conv2 ==> True\n",
            "block2_pool ==> True\n",
            "block3_conv1 ==> True\n",
            "block3_conv2 ==> True\n",
            "block3_conv3 ==> True\n",
            "block3_pool ==> True\n",
            "block4_conv1 ==> True\n",
            "block4_conv2 ==> True\n",
            "block4_conv3 ==> True\n",
            "block4_pool ==> True\n",
            "block5_conv1 ==> True\n",
            "block5_conv2 ==> True\n",
            "block5_conv3 ==> True\n",
            "block5_pool ==> True\n"
          ],
          "name": "stdout"
        }
      ]
    },
    {
      "cell_type": "code",
      "metadata": {
        "id": "FqRdiDihAF08"
      },
      "source": [
        "conv_base.trainable = True\n",
        "\n",
        "set_trainable = False\n",
        "for layer in conv_base.layers:\n",
        "    if layer.name == 'block5_conv1':\n",
        "        set_trainable = True\n",
        "    if set_trainable:\n",
        "        layer.trainable = True\n",
        "    else:\n",
        "        layer.trainable = False"
      ],
      "execution_count": 11,
      "outputs": []
    },
    {
      "cell_type": "code",
      "metadata": {
        "colab": {
          "base_uri": "https://localhost:8080/"
        },
        "id": "Qb_ynwYfCPHg",
        "outputId": "90842939-abf3-45df-d813-f8a9d1a5d279"
      },
      "source": [
        "for layer in conv_base.layers : \n",
        "  print(layer.name , '==>' , layer.trainable)"
      ],
      "execution_count": 12,
      "outputs": [
        {
          "output_type": "stream",
          "text": [
            "input_1 ==> False\n",
            "concatenate ==> False\n",
            "block1_conv1 ==> False\n",
            "block1_conv2 ==> False\n",
            "block1_pool ==> False\n",
            "block2_conv1 ==> False\n",
            "block2_conv2 ==> False\n",
            "block2_pool ==> False\n",
            "block3_conv1 ==> False\n",
            "block3_conv2 ==> False\n",
            "block3_conv3 ==> False\n",
            "block3_pool ==> False\n",
            "block4_conv1 ==> False\n",
            "block4_conv2 ==> False\n",
            "block4_conv3 ==> False\n",
            "block4_pool ==> False\n",
            "block5_conv1 ==> True\n",
            "block5_conv2 ==> True\n",
            "block5_conv3 ==> True\n",
            "block5_pool ==> True\n"
          ],
          "name": "stdout"
        }
      ]
    },
    {
      "cell_type": "code",
      "metadata": {
        "id": "Q_SHryBhCWW5"
      },
      "source": [
        "from keras import optimizers\n",
        "model.compile(loss='binary_crossentropy',\n",
        "              optimizer=optimizers.RMSprop(lr=1e-5),\n",
        "              metrics=['acc'])"
      ],
      "execution_count": 13,
      "outputs": []
    },
    {
      "cell_type": "code",
      "metadata": {
        "colab": {
          "base_uri": "https://localhost:8080/"
        },
        "id": "NQsMeX9mCsnk",
        "outputId": "00e39bab-435f-4d2b-9fd3-3ed5f8819436"
      },
      "source": [
        "history = model.fit_generator(\n",
        "      train_generator,\n",
        "      steps_per_epoch=100,\n",
        "      epochs=20,\n",
        "      validation_data=validation_generator,\n",
        "      validation_steps=50)"
      ],
      "execution_count": 14,
      "outputs": [
        {
          "output_type": "stream",
          "text": [
            "/usr/local/lib/python3.7/dist-packages/tensorflow/python/keras/engine/training.py:1844: UserWarning: `Model.fit_generator` is deprecated and will be removed in a future version. Please use `Model.fit`, which supports generators.\n",
            "  warnings.warn('`Model.fit_generator` is deprecated and '\n"
          ],
          "name": "stderr"
        },
        {
          "output_type": "stream",
          "text": [
            "Epoch 1/20\n",
            "100/100 [==============================] - 1422s 14s/step - loss: 0.5497 - acc: 0.7520 - val_loss: 0.9402 - val_acc: 0.7930\n",
            "Epoch 2/20\n",
            "100/100 [==============================] - 957s 10s/step - loss: 0.3157 - acc: 0.8785 - val_loss: 0.9287 - val_acc: 0.7920\n",
            "Epoch 3/20\n",
            "100/100 [==============================] - 710s 7s/step - loss: 0.2636 - acc: 0.9036 - val_loss: 1.5062 - val_acc: 0.7800\n",
            "Epoch 4/20\n",
            "100/100 [==============================] - 529s 5s/step - loss: 0.2739 - acc: 0.9001 - val_loss: 1.0980 - val_acc: 0.7970\n",
            "Epoch 5/20\n",
            "100/100 [==============================] - 432s 4s/step - loss: 0.2605 - acc: 0.9010 - val_loss: 1.4044 - val_acc: 0.7930\n",
            "Epoch 6/20\n",
            "100/100 [==============================] - 353s 4s/step - loss: 0.2376 - acc: 0.9115 - val_loss: 2.2845 - val_acc: 0.7400\n",
            "Epoch 7/20\n",
            "100/100 [==============================] - 305s 3s/step - loss: 0.2563 - acc: 0.9020 - val_loss: 1.6072 - val_acc: 0.7910\n",
            "Epoch 8/20\n",
            "100/100 [==============================] - 267s 3s/step - loss: 0.2413 - acc: 0.9089 - val_loss: 1.7136 - val_acc: 0.7920\n",
            "Epoch 9/20\n",
            "100/100 [==============================] - 243s 2s/step - loss: 0.2219 - acc: 0.9181 - val_loss: 1.6980 - val_acc: 0.7990\n",
            "Epoch 10/20\n",
            "100/100 [==============================] - 214s 2s/step - loss: 0.2604 - acc: 0.8923 - val_loss: 1.6028 - val_acc: 0.7890\n",
            "Epoch 11/20\n",
            "100/100 [==============================] - 209s 2s/step - loss: 0.2283 - acc: 0.9142 - val_loss: 1.1049 - val_acc: 0.7960\n",
            "Epoch 12/20\n",
            "100/100 [==============================] - 201s 2s/step - loss: 0.2290 - acc: 0.9149 - val_loss: 1.3474 - val_acc: 0.7870\n",
            "Epoch 13/20\n",
            "100/100 [==============================] - 197s 2s/step - loss: 0.1975 - acc: 0.9232 - val_loss: 1.0576 - val_acc: 0.8060\n",
            "Epoch 14/20\n",
            "100/100 [==============================] - 190s 2s/step - loss: 0.2203 - acc: 0.9176 - val_loss: 1.5654 - val_acc: 0.7950\n",
            "Epoch 15/20\n",
            "100/100 [==============================] - 189s 2s/step - loss: 0.2216 - acc: 0.9078 - val_loss: 1.2100 - val_acc: 0.7870\n",
            "Epoch 16/20\n",
            "100/100 [==============================] - 190s 2s/step - loss: 0.1941 - acc: 0.9258 - val_loss: 1.4547 - val_acc: 0.7910\n",
            "Epoch 17/20\n",
            "100/100 [==============================] - 188s 2s/step - loss: 0.2346 - acc: 0.9081 - val_loss: 1.3241 - val_acc: 0.8070\n",
            "Epoch 18/20\n",
            "100/100 [==============================] - 187s 2s/step - loss: 0.1890 - acc: 0.9236 - val_loss: 1.8624 - val_acc: 0.7740\n",
            "Epoch 19/20\n",
            "100/100 [==============================] - 187s 2s/step - loss: 0.1853 - acc: 0.9304 - val_loss: 0.9227 - val_acc: 0.7920\n",
            "Epoch 20/20\n",
            "100/100 [==============================] - 187s 2s/step - loss: 0.2068 - acc: 0.9258 - val_loss: 1.4227 - val_acc: 0.8030\n"
          ],
          "name": "stdout"
        }
      ]
    },
    {
      "cell_type": "code",
      "metadata": {
        "colab": {
          "base_uri": "https://localhost:8080/",
          "height": 545
        },
        "id": "aeUbJS2OkgM3",
        "outputId": "e31cfce1-301a-494c-f0af-917d79476cf0"
      },
      "source": [
        "import matplotlib.pyplot as plt\n",
        "%matplotlib inline\n",
        "acc = history.history['acc']\n",
        "val_acc = history.history['val_acc']\n",
        "loss = history.history['loss']\n",
        "val_loss = history.history['val_loss']\n",
        "\n",
        "epochs = range(len(acc))\n",
        "\n",
        "plt.plot(epochs, acc, 'bo', label='Training acc')\n",
        "plt.plot(epochs, val_acc, 'b', label='Validation acc')\n",
        "plt.title('Training and validation accuracy')\n",
        "plt.legend()\n",
        "\n",
        "plt.figure()\n",
        "\n",
        "plt.plot(epochs, loss, 'bo', label='Training loss')\n",
        "plt.plot(epochs, val_loss, 'b', label='Validation loss')\n",
        "plt.title('Training and validation loss')\n",
        "plt.legend()\n",
        "\n",
        "plt.show()"
      ],
      "execution_count": 15,
      "outputs": [
        {
          "output_type": "display_data",
          "data": {
            "image/png": "[encoded data removed]",
            "text/plain": [
              "<Figure size 432x288 with 1 Axes>"
            ]
          },
          "metadata": {
            "tags": [],
            "needs_background": "light"
          }
        },
        {
          "output_type": "display_data",
          "data": {
            "image/png": "[encoded data removed]",
            "text/plain": [
              "<Figure size 432x288 with 1 Axes>"
            ]
          },
          "metadata": {
            "tags": [],
            "needs_background": "light"
          }
        }
      ]
    }
  ]
}