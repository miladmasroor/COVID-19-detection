{
  "nbformat": 4,
  "nbformat_minor": 0,
  "metadata": {
    "colab": {
      "name": "Untitled14.ipynb",
      "provenance": []
    },
    "kernelspec": {
      "name": "python3",
      "display_name": "Python 3"
    },
    "language_info": {
      "name": "python"
    },
    "accelerator": "GPU",
    "widgets": {
      "application/vnd.jupyter.widget-state+json": {
        "9953054efd7a49fcb42f7ebfbe92a1a3": {
          "model_module": "@jupyter-widgets/controls",
          "model_name": "HBoxModel",
          "state": {
            "_view_name": "HBoxView",
            "_dom_classes": [],
            "_model_name": "HBoxModel",
            "_view_module": "@jupyter-widgets/controls",
            "_model_module_version": "1.5.0",
            "_view_count": null,
            "_view_module_version": "1.5.0",
            "box_style": "",
            "layout": "IPY_MODEL_6300b258b95149b3ba4860bfc103e9ae",
            "_model_module": "@jupyter-widgets/controls",
            "children": [
              "IPY_MODEL_74ac97023135402e9187fc9e49d33bac",
              "IPY_MODEL_4a1b6477ec53462c91f52e905035b805"
            ]
          }
        },
        "6300b258b95149b3ba4860bfc103e9ae": {
          "model_module": "@jupyter-widgets/base",
          "model_name": "LayoutModel",
          "state": {
            "_view_name": "LayoutView",
            "grid_template_rows": null,
            "right": null,
            "justify_content": null,
            "_view_module": "@jupyter-widgets/base",
            "overflow": null,
            "_model_module_version": "1.2.0",
            "_view_count": null,
            "flex_flow": null,
            "width": null,
            "min_width": null,
            "border": null,
            "align_items": null,
            "bottom": null,
            "_model_module": "@jupyter-widgets/base",
            "top": null,
            "grid_column": null,
            "overflow_y": null,
            "overflow_x": null,
            "grid_auto_flow": null,
            "grid_area": null,
            "grid_template_columns": null,
            "flex": null,
            "_model_name": "LayoutModel",
            "justify_items": null,
            "grid_row": null,
            "max_height": null,
            "align_content": null,
            "visibility": null,
            "align_self": null,
            "height": null,
            "min_height": null,
            "padding": null,
            "grid_auto_rows": null,
            "grid_gap": null,
            "max_width": null,
            "order": null,
            "_view_module_version": "1.2.0",
            "grid_template_areas": null,
            "object_position": null,
            "object_fit": null,
            "grid_auto_columns": null,
            "margin": null,
            "display": null,
            "left": null
          }
        },
        "74ac97023135402e9187fc9e49d33bac": {
          "model_module": "@jupyter-widgets/controls",
          "model_name": "FloatProgressModel",
          "state": {
            "_view_name": "ProgressView",
            "style": "IPY_MODEL_a1a8b667a1794944b2a45516032262c6",
            "_dom_classes": [],
            "description": "100%",
            "_model_name": "FloatProgressModel",
            "bar_style": "success",
            "max": 6769,
            "_view_module": "@jupyter-widgets/controls",
            "_model_module_version": "1.5.0",
            "value": 6769,
            "_view_count": null,
            "_view_module_version": "1.5.0",
            "orientation": "horizontal",
            "min": 0,
            "description_tooltip": null,
            "_model_module": "@jupyter-widgets/controls",
            "layout": "IPY_MODEL_581b2f453d5042bcbaaf1ec38a7859db"
          }
        },
        "4a1b6477ec53462c91f52e905035b805": {
          "model_module": "@jupyter-widgets/controls",
          "model_name": "HTMLModel",
          "state": {
            "_view_name": "HTMLView",
            "style": "IPY_MODEL_e18bade44e6e403f84178bbcd3b8c50d",
            "_dom_classes": [],
            "description": "",
            "_model_name": "HTMLModel",
            "placeholder": "​",
            "_view_module": "@jupyter-widgets/controls",
            "_model_module_version": "1.5.0",
            "value": " 6769/6769 [1:32:13&lt;00:00,  1.22it/s]",
            "_view_count": null,
            "_view_module_version": "1.5.0",
            "description_tooltip": null,
            "_model_module": "@jupyter-widgets/controls",
            "layout": "IPY_MODEL_fde350555b8f4179b265a9e4c9a10547"
          }
        },
        "a1a8b667a1794944b2a45516032262c6": {
          "model_module": "@jupyter-widgets/controls",
          "model_name": "ProgressStyleModel",
          "state": {
            "_view_name": "StyleView",
            "_model_name": "ProgressStyleModel",
            "description_width": "initial",
            "_view_module": "@jupyter-widgets/base",
            "_model_module_version": "1.5.0",
            "_view_count": null,
            "_view_module_version": "1.2.0",
            "bar_color": null,
            "_model_module": "@jupyter-widgets/controls"
          }
        },
        "581b2f453d5042bcbaaf1ec38a7859db": {
          "model_module": "@jupyter-widgets/base",
          "model_name": "LayoutModel",
          "state": {
            "_view_name": "LayoutView",
            "grid_template_rows": null,
            "right": null,
            "justify_content": null,
            "_view_module": "@jupyter-widgets/base",
            "overflow": null,
            "_model_module_version": "1.2.0",
            "_view_count": null,
            "flex_flow": null,
            "width": null,
            "min_width": null,
            "border": null,
            "align_items": null,
            "bottom": null,
            "_model_module": "@jupyter-widgets/base",
            "top": null,
            "grid_column": null,
            "overflow_y": null,
            "overflow_x": null,
            "grid_auto_flow": null,
            "grid_area": null,
            "grid_template_columns": null,
            "flex": null,
            "_model_name": "LayoutModel",
            "justify_items": null,
            "grid_row": null,
            "max_height": null,
            "align_content": null,
            "visibility": null,
            "align_self": null,
            "height": null,
            "min_height": null,
            "padding": null,
            "grid_auto_rows": null,
            "grid_gap": null,
            "max_width": null,
            "order": null,
            "_view_module_version": "1.2.0",
            "grid_template_areas": null,
            "object_position": null,
            "object_fit": null,
            "grid_auto_columns": null,
            "margin": null,
            "display": null,
            "left": null
          }
        },
        "e18bade44e6e403f84178bbcd3b8c50d": {
          "model_module": "@jupyter-widgets/controls",
          "model_name": "DescriptionStyleModel",
          "state": {
            "_view_name": "StyleView",
            "_model_name": "DescriptionStyleModel",
            "description_width": "",
            "_view_module": "@jupyter-widgets/base",
            "_model_module_version": "1.5.0",
            "_view_count": null,
            "_view_module_version": "1.2.0",
            "_model_module": "@jupyter-widgets/controls"
          }
        },
        "fde350555b8f4179b265a9e4c9a10547": {
          "model_module": "@jupyter-widgets/base",
          "model_name": "LayoutModel",
          "state": {
            "_view_name": "LayoutView",
            "grid_template_rows": null,
            "right": null,
            "justify_content": null,
            "_view_module": "@jupyter-widgets/base",
            "overflow": null,
            "_model_module_version": "1.2.0",
            "_view_count": null,
            "flex_flow": null,
            "width": null,
            "min_width": null,
            "border": null,
            "align_items": null,
            "bottom": null,
            "_model_module": "@jupyter-widgets/base",
            "top": null,
            "grid_column": null,
            "overflow_y": null,
            "overflow_x": null,
            "grid_auto_flow": null,
            "grid_area": null,
            "grid_template_columns": null,
            "flex": null,
            "_model_name": "LayoutModel",
            "justify_items": null,
            "grid_row": null,
            "max_height": null,
            "align_content": null,
            "visibility": null,
            "align_self": null,
            "height": null,
            "min_height": null,
            "padding": null,
            "grid_auto_rows": null,
            "grid_gap": null,
            "max_width": null,
            "order": null,
            "_view_module_version": "1.2.0",
            "grid_template_areas": null,
            "object_position": null,
            "object_fit": null,
            "grid_auto_columns": null,
            "margin": null,
            "display": null,
            "left": null
          }
        }
      }
    }
  },
  "cells": [
    {
      "cell_type": "code",
      "metadata": {
        "id": "uKFyDRV3atxr",
        "colab": {
          "base_uri": "https://localhost:8080/"
        },
        "outputId": "a5289945-91b2-46c9-d7ba-3fe2b87091e1"
      },
      "source": [
        "from google.colab import drive\n",
        "drive.mount('/content/drive',force_remount=True)"
      ],
      "execution_count": 10,
      "outputs": [
        {
          "output_type": "stream",
          "text": [
            "Mounted at /content/drive\n"
          ],
          "name": "stdout"
        }
      ]
    },
    {
      "cell_type": "code",
      "metadata": {
        "id": "h2VEKRj-baQ3"
      },
      "source": [
        "import os\n",
        "import cv2\n",
        "import numpy as np\n",
        "import matplotlib.pyplot as plt\n",
        "from tqdm.notebook import tqdm\n",
        "import pandas as pd\n",
        "from keras import models\n",
        "from keras import layers\n",
        "from sklearn.model_selection import train_test_split\n",
        "from sklearn.metrics import f1_score, roc_curve, auc, precision_score, accuracy_score, confusion_matrix"
      ],
      "execution_count": 13,
      "outputs": []
    },
    {
      "cell_type": "code",
      "metadata": {
        "id": "KV6ilhTRbkZl"
      },
      "source": [
        "def read_image(filepath):\n",
        "    return cv2.imread(os.path.join(data_dir, filepath)) \n",
        "\n",
        "def resize_image(image, image_size):\n",
        "    return cv2.resize(image.copy(), image_size, interpolation = cv2.INTER_AREA)"
      ],
      "execution_count": 15,
      "outputs": []
    },
    {
      "cell_type": "code",
      "metadata": {
        "id": "R7QCg5pIdogQ"
      },
      "source": [
        "disease_types=['COVID', 'NonCOVID']\n",
        "data_dir = '/content/drive/MyDrive/train'\n",
        "train_dir = os.path.join(data_dir)"
      ],
      "execution_count": 16,
      "outputs": []
    },
    {
      "cell_type": "code",
      "metadata": {
        "id": "gizHRsy5eTcH"
      },
      "source": [
        "train_data = []\n",
        "for defects_id, sp in enumerate(disease_types):\n",
        "    for file in os.listdir(os.path.join(train_dir, sp)):\n",
        "        train_data.append(['{}/{}'.format(sp, file), defects_id, sp])      \n",
        "train = pd.DataFrame(train_data, columns=['File', 'DiseaseID','Disease Type'])"
      ],
      "execution_count": 17,
      "outputs": []
    },
    {
      "cell_type": "code",
      "metadata": {
        "colab": {
          "base_uri": "https://localhost:8080/",
          "height": 417
        },
        "id": "MNx7Fef5eqn9",
        "outputId": "88be1ee0-4c6a-4a55-d829-fcd228845bf2"
      },
      "source": [
        "train.head(6000)"
      ],
      "execution_count": 18,
      "outputs": [
        {
          "output_type": "execute_result",
          "data": {
            "text/html": [
              "<div>\n",
              "<style scoped>\n",
              "    .dataframe tbody tr th:only-of-type {\n",
              "        vertical-align: middle;\n",
              "    }\n",
              "\n",
              "    .dataframe tbody tr th {\n",
              "        vertical-align: top;\n",
              "    }\n",
              "\n",
              "    .dataframe thead th {\n",
              "        text-align: right;\n",
              "    }\n",
              "</style>\n",
              "<table border=\"1\" class=\"dataframe\">\n",
              "  <thead>\n",
              "    <tr style=\"text-align: right;\">\n",
              "      <th></th>\n",
              "      <th>File</th>\n",
              "      <th>DiseaseID</th>\n",
              "      <th>Disease Type</th>\n",
              "    </tr>\n",
              "  </thead>\n",
              "  <tbody>\n",
              "    <tr>\n",
              "      <th>0</th>\n",
              "      <td>COVID/1.3.12.2.1107.5.1.4.78983.30000020032114...</td>\n",
              "      <td>0</td>\n",
              "      <td>COVID</td>\n",
              "    </tr>\n",
              "    <tr>\n",
              "      <th>1</th>\n",
              "      <td>COVID/1.3.12.2.1107.5.1.4.78983.30000020032114...</td>\n",
              "      <td>0</td>\n",
              "      <td>COVID</td>\n",
              "    </tr>\n",
              "    <tr>\n",
              "      <th>2</th>\n",
              "      <td>COVID/1.3.12.2.1107.5.1.4.78983.30000020032114...</td>\n",
              "      <td>0</td>\n",
              "      <td>COVID</td>\n",
              "    </tr>\n",
              "    <tr>\n",
              "      <th>3</th>\n",
              "      <td>COVID/1.3.12.2.1107.5.1.4.78983.30000020032114...</td>\n",
              "      <td>0</td>\n",
              "      <td>COVID</td>\n",
              "    </tr>\n",
              "    <tr>\n",
              "      <th>4</th>\n",
              "      <td>COVID/1.3.12.2.1107.5.1.4.78983.30000020032114...</td>\n",
              "      <td>0</td>\n",
              "      <td>COVID</td>\n",
              "    </tr>\n",
              "    <tr>\n",
              "      <th>...</th>\n",
              "      <td>...</td>\n",
              "      <td>...</td>\n",
              "      <td>...</td>\n",
              "    </tr>\n",
              "    <tr>\n",
              "      <th>5995</th>\n",
              "      <td>NonCOVID/1.3.12.2.1107.5.1.4.78983.30000020031...</td>\n",
              "      <td>1</td>\n",
              "      <td>NonCOVID</td>\n",
              "    </tr>\n",
              "    <tr>\n",
              "      <th>5996</th>\n",
              "      <td>NonCOVID/1.3.12.2.1107.5.1.4.78983.30000020031...</td>\n",
              "      <td>1</td>\n",
              "      <td>NonCOVID</td>\n",
              "    </tr>\n",
              "    <tr>\n",
              "      <th>5997</th>\n",
              "      <td>NonCOVID/1.3.12.2.1107.5.1.4.78983.30000020032...</td>\n",
              "      <td>1</td>\n",
              "      <td>NonCOVID</td>\n",
              "    </tr>\n",
              "    <tr>\n",
              "      <th>5998</th>\n",
              "      <td>NonCOVID/1.3.12.2.1107.5.1.4.78983.30000020032...</td>\n",
              "      <td>1</td>\n",
              "      <td>NonCOVID</td>\n",
              "    </tr>\n",
              "    <tr>\n",
              "      <th>5999</th>\n",
              "      <td>NonCOVID/1.3.12.2.1107.5.1.4.78983.30000020032...</td>\n",
              "      <td>1</td>\n",
              "      <td>NonCOVID</td>\n",
              "    </tr>\n",
              "  </tbody>\n",
              "</table>\n",
              "<p>6000 rows × 3 columns</p>\n",
              "</div>"
            ],
            "text/plain": [
              "                                                   File  DiseaseID Disease Type\n",
              "0     COVID/1.3.12.2.1107.5.1.4.78983.30000020032114...          0        COVID\n",
              "1     COVID/1.3.12.2.1107.5.1.4.78983.30000020032114...          0        COVID\n",
              "2     COVID/1.3.12.2.1107.5.1.4.78983.30000020032114...          0        COVID\n",
              "3     COVID/1.3.12.2.1107.5.1.4.78983.30000020032114...          0        COVID\n",
              "4     COVID/1.3.12.2.1107.5.1.4.78983.30000020032114...          0        COVID\n",
              "...                                                 ...        ...          ...\n",
              "5995  NonCOVID/1.3.12.2.1107.5.1.4.78983.30000020031...          1     NonCOVID\n",
              "5996  NonCOVID/1.3.12.2.1107.5.1.4.78983.30000020031...          1     NonCOVID\n",
              "5997  NonCOVID/1.3.12.2.1107.5.1.4.78983.30000020032...          1     NonCOVID\n",
              "5998  NonCOVID/1.3.12.2.1107.5.1.4.78983.30000020032...          1     NonCOVID\n",
              "5999  NonCOVID/1.3.12.2.1107.5.1.4.78983.30000020032...          1     NonCOVID\n",
              "\n",
              "[6000 rows x 3 columns]"
            ]
          },
          "metadata": {
            "tags": []
          },
          "execution_count": 18
        }
      ]
    },
    {
      "cell_type": "code",
      "metadata": {
        "colab": {
          "base_uri": "https://localhost:8080/",
          "height": 99,
          "referenced_widgets": [
            "9953054efd7a49fcb42f7ebfbe92a1a3",
            "6300b258b95149b3ba4860bfc103e9ae",
            "74ac97023135402e9187fc9e49d33bac",
            "4a1b6477ec53462c91f52e905035b805",
            "a1a8b667a1794944b2a45516032262c6",
            "581b2f453d5042bcbaaf1ec38a7859db",
            "e18bade44e6e403f84178bbcd3b8c50d",
            "fde350555b8f4179b265a9e4c9a10547"
          ]
        },
        "id": "Pm_J9t7rfIVV",
        "outputId": "dea9b822-d6b1-4faa-d52f-64f677f325b8"
      },
      "source": [
        "IMAGE_SIZE = 64\n",
        "X = np.zeros((train.shape[0], IMAGE_SIZE, IMAGE_SIZE, 3))\n",
        "for i, file in tqdm(enumerate(train['File'].values), total = len(train)):\n",
        "    image = read_image(file)\n",
        "    if image is not None:\n",
        "        X[i] = resize_image(image, (IMAGE_SIZE, IMAGE_SIZE))\n",
        "X /= 255.        \n",
        "y = train['DiseaseID'].values\n",
        "print(X.shape)\n",
        "print(y.shape)"
      ],
      "execution_count": 20,
      "outputs": [
        {
          "output_type": "display_data",
          "data": {
            "application/vnd.jupyter.widget-view+json": {
              "model_id": "9953054efd7a49fcb42f7ebfbe92a1a3",
              "version_minor": 0,
              "version_major": 2
            },
            "text/plain": [
              "HBox(children=(FloatProgress(value=0.0, max=6769.0), HTML(value='')))"
            ]
          },
          "metadata": {
            "tags": []
          }
        },
        {
          "output_type": "stream",
          "text": [
            "\n",
            "(6769, 64, 64, 3)\n",
            "(6769,)\n"
          ],
          "name": "stdout"
        }
      ]
    },
    {
      "cell_type": "code",
      "metadata": {
        "id": "aGQB0qxE0MCz"
      },
      "source": [
        "x_train, x_test, y_train, y_test = train_test_split(X, y, test_size=0.2, stratify=y, random_state = 1)"
      ],
      "execution_count": 21,
      "outputs": []
    },
    {
      "cell_type": "code",
      "metadata": {
        "id": "fTFSG9Sz0QQn"
      },
      "source": [
        "model = models.Sequential()\n",
        "model.add(layers.Conv2D(64, (3, 3), activation='relu', input_shape=(64, 64, 3)))\n",
        "model.add(layers.MaxPool2D((2, 2)))\n",
        "model.add(layers.Conv2D(256, (3, 3), activation='relu'))\n",
        "model.add(layers.MaxPool2D((2, 2)))\n",
        "model.add(layers.Dropout(0.5))\n",
        "model.add(layers.Conv2D(256, (3, 3), activation='relu'))\n",
        "model.add(layers.MaxPool2D((2, 2)))\n",
        "model.add(layers.Conv2D(256, (3, 3), activation='relu'))\n",
        "\n",
        "model.add(layers.Dropout(0.5))\n",
        "model.add(layers.Conv2D(528, (3, 3), activation='relu'))\n",
        "model.add(layers.MaxPool2D((2, 2)))\n",
        "\n",
        "\n",
        "model.add(layers.Flatten())\n",
        "model.add(layers.Dense(128, activation='relu'))\n",
        "model.add(layers.Dense(64, activation='relu'))\n",
        "model.add(layers.Dense(32, activation='relu'))\n",
        "model.add(layers.Dense(1, activation='sigmoid'))"
      ],
      "execution_count": 22,
      "outputs": []
    },
    {
      "cell_type": "code",
      "metadata": {
        "colab": {
          "base_uri": "https://localhost:8080/"
        },
        "id": "LRM8IOa90UHv",
        "outputId": "41cd5b42-8311-409d-8588-61d763e67804"
      },
      "source": [
        "model.summary()"
      ],
      "execution_count": 23,
      "outputs": [
        {
          "output_type": "stream",
          "text": [
            "Model: \"sequential\"\n",
            "_________________________________________________________________\n",
            "Layer (type)                 Output Shape              Param #   \n",
            "=================================================================\n",
            "conv2d (Conv2D)              (None, 62, 62, 64)        1792      \n",
            "_________________________________________________________________\n",
            "max_pooling2d (MaxPooling2D) (None, 31, 31, 64)        0         \n",
            "_________________________________________________________________\n",
            "conv2d_1 (Conv2D)            (None, 29, 29, 256)       147712    \n",
            "_________________________________________________________________\n",
            "max_pooling2d_1 (MaxPooling2 (None, 14, 14, 256)       0         \n",
            "_________________________________________________________________\n",
            "dropout (Dropout)            (None, 14, 14, 256)       0         \n",
            "_________________________________________________________________\n",
            "conv2d_2 (Conv2D)            (None, 12, 12, 256)       590080    \n",
            "_________________________________________________________________\n",
            "max_pooling2d_2 (MaxPooling2 (None, 6, 6, 256)         0         \n",
            "_________________________________________________________________\n",
            "conv2d_3 (Conv2D)            (None, 4, 4, 256)         590080    \n",
            "_________________________________________________________________\n",
            "dropout_1 (Dropout)          (None, 4, 4, 256)         0         \n",
            "_________________________________________________________________\n",
            "conv2d_4 (Conv2D)            (None, 2, 2, 528)         1217040   \n",
            "_________________________________________________________________\n",
            "max_pooling2d_3 (MaxPooling2 (None, 1, 1, 528)         0         \n",
            "_________________________________________________________________\n",
            "flatten (Flatten)            (None, 528)               0         \n",
            "_________________________________________________________________\n",
            "dense (Dense)                (None, 128)               67712     \n",
            "_________________________________________________________________\n",
            "dense_1 (Dense)              (None, 64)                8256      \n",
            "_________________________________________________________________\n",
            "dense_2 (Dense)              (None, 32)                2080      \n",
            "_________________________________________________________________\n",
            "dense_3 (Dense)              (None, 1)                 33        \n",
            "=================================================================\n",
            "Total params: 2,624,785\n",
            "Trainable params: 2,624,785\n",
            "Non-trainable params: 0\n",
            "_________________________________________________________________\n"
          ],
          "name": "stdout"
        }
      ]
    },
    {
      "cell_type": "code",
      "metadata": {
        "id": "2MunlGY90YC_"
      },
      "source": [
        "model.compile(optimizer='rmsprop', loss='binary_crossentropy', metrics=['accuracy'])"
      ],
      "execution_count": 24,
      "outputs": []
    },
    {
      "cell_type": "code",
      "metadata": {
        "colab": {
          "base_uri": "https://localhost:8080/"
        },
        "id": "noZXyn-G0cpq",
        "outputId": "68ab0588-5d8f-4bc2-b7a7-0ed5bc3ddeca"
      },
      "source": [
        "history = model.fit(x_train, y_train,\n",
        "                    batch_size=64, epochs=30,steps_per_epoch=32,\n",
        "                    verbose=1,validation_split=0.1)"
      ],
      "execution_count": 25,
      "outputs": [
        {
          "output_type": "stream",
          "text": [
            "Epoch 1/30\n",
            "32/32 [==============================] - 97s 3s/step - loss: 0.9301 - accuracy: 0.5156 - val_loss: 0.6930 - val_accuracy: 0.4760\n",
            "Epoch 2/30\n",
            "32/32 [==============================] - 79s 2s/step - loss: 0.7132 - accuracy: 0.5253 - val_loss: 0.6933 - val_accuracy: 0.4760\n",
            "Epoch 3/30\n",
            "32/32 [==============================] - 77s 2s/step - loss: 0.6873 - accuracy: 0.5277 - val_loss: 1.5354 - val_accuracy: 0.5240\n",
            "Epoch 4/30\n",
            "32/32 [==============================] - 79s 2s/step - loss: 0.7989 - accuracy: 0.5915 - val_loss: 3.0184 - val_accuracy: 0.5240\n",
            "Epoch 5/30\n",
            "32/32 [==============================] - 77s 2s/step - loss: 0.9770 - accuracy: 0.6528 - val_loss: 0.6243 - val_accuracy: 0.7232\n",
            "Epoch 6/30\n",
            "32/32 [==============================] - 78s 2s/step - loss: 0.5939 - accuracy: 0.7283 - val_loss: 0.6314 - val_accuracy: 0.7177\n",
            "Epoch 7/30\n",
            "32/32 [==============================] - 79s 2s/step - loss: 0.5866 - accuracy: 0.7276 - val_loss: 0.9485 - val_accuracy: 0.5480\n",
            "Epoch 8/30\n",
            "32/32 [==============================] - 76s 2s/step - loss: 0.5937 - accuracy: 0.7522 - val_loss: 0.9198 - val_accuracy: 0.5129\n",
            "Epoch 9/30\n",
            "32/32 [==============================] - 79s 2s/step - loss: 0.5321 - accuracy: 0.7711 - val_loss: 0.5046 - val_accuracy: 0.7546\n",
            "Epoch 10/30\n",
            "32/32 [==============================] - 77s 2s/step - loss: 0.4773 - accuracy: 0.7908 - val_loss: 0.4463 - val_accuracy: 0.7970\n",
            "Epoch 11/30\n",
            "32/32 [==============================] - 79s 2s/step - loss: 0.5151 - accuracy: 0.7797 - val_loss: 0.4429 - val_accuracy: 0.7952\n",
            "Epoch 12/30\n",
            "32/32 [==============================] - 78s 2s/step - loss: 0.3743 - accuracy: 0.8415 - val_loss: 0.4823 - val_accuracy: 0.7915\n",
            "Epoch 13/30\n",
            "32/32 [==============================] - 77s 2s/step - loss: 0.3984 - accuracy: 0.8223 - val_loss: 0.7230 - val_accuracy: 0.6605\n",
            "Epoch 14/30\n",
            "32/32 [==============================] - 79s 2s/step - loss: 0.3955 - accuracy: 0.8316 - val_loss: 0.3717 - val_accuracy: 0.8303\n",
            "Epoch 15/30\n",
            "32/32 [==============================] - 77s 2s/step - loss: 0.3197 - accuracy: 0.8735 - val_loss: 0.3982 - val_accuracy: 0.8321\n",
            "Epoch 16/30\n",
            "32/32 [==============================] - 80s 3s/step - loss: 0.3265 - accuracy: 0.8511 - val_loss: 0.2923 - val_accuracy: 0.8708\n",
            "Epoch 17/30\n",
            "32/32 [==============================] - 76s 2s/step - loss: 0.3128 - accuracy: 0.8731 - val_loss: 0.3599 - val_accuracy: 0.8450\n",
            "Epoch 18/30\n",
            "32/32 [==============================] - 78s 2s/step - loss: 0.2507 - accuracy: 0.8944 - val_loss: 0.3255 - val_accuracy: 0.8635\n",
            "Epoch 19/30\n",
            "32/32 [==============================] - 79s 2s/step - loss: 0.2461 - accuracy: 0.8974 - val_loss: 0.2343 - val_accuracy: 0.9022\n",
            "Epoch 20/30\n",
            "32/32 [==============================] - 78s 2s/step - loss: 0.2226 - accuracy: 0.9102 - val_loss: 0.2776 - val_accuracy: 0.8875\n",
            "Epoch 21/30\n",
            "32/32 [==============================] - 80s 2s/step - loss: 0.2003 - accuracy: 0.9202 - val_loss: 0.2202 - val_accuracy: 0.9151\n",
            "Epoch 22/30\n",
            "32/32 [==============================] - 77s 2s/step - loss: 0.2165 - accuracy: 0.9165 - val_loss: 0.3482 - val_accuracy: 0.8672\n",
            "Epoch 23/30\n",
            "32/32 [==============================] - 78s 2s/step - loss: 0.1954 - accuracy: 0.9252 - val_loss: 0.1592 - val_accuracy: 0.9373\n",
            "Epoch 24/30\n",
            "32/32 [==============================] - 78s 2s/step - loss: 0.1836 - accuracy: 0.9264 - val_loss: 0.2236 - val_accuracy: 0.9059\n",
            "Epoch 25/30\n",
            "32/32 [==============================] - 77s 2s/step - loss: 0.1808 - accuracy: 0.9245 - val_loss: 0.2741 - val_accuracy: 0.9004\n",
            "Epoch 26/30\n",
            "32/32 [==============================] - 79s 2s/step - loss: 0.1591 - accuracy: 0.9322 - val_loss: 0.1985 - val_accuracy: 0.9336\n",
            "Epoch 27/30\n",
            "32/32 [==============================] - 76s 2s/step - loss: 0.1489 - accuracy: 0.9439 - val_loss: 0.1604 - val_accuracy: 0.9465\n",
            "Epoch 28/30\n",
            "32/32 [==============================] - 78s 2s/step - loss: 0.1029 - accuracy: 0.9622 - val_loss: 0.1838 - val_accuracy: 0.9391\n",
            "Epoch 29/30\n",
            "32/32 [==============================] - 77s 2s/step - loss: 0.1321 - accuracy: 0.9487 - val_loss: 0.1423 - val_accuracy: 0.9446\n",
            "Epoch 30/30\n",
            "32/32 [==============================] - 82s 3s/step - loss: 0.0971 - accuracy: 0.9660 - val_loss: 0.1534 - val_accuracy: 0.9410\n"
          ],
          "name": "stdout"
        }
      ]
    },
    {
      "cell_type": "code",
      "metadata": {
        "colab": {
          "base_uri": "https://localhost:8080/",
          "height": 562
        },
        "id": "An86fber_0bj",
        "outputId": "3131c808-845c-42ff-9a41-bb2142be72a8"
      },
      "source": [
        "import matplotlib.pyplot as plt\n",
        "%matplotlib inline\n",
        "acc = history.history['accuracy']\n",
        "val_acc = history.history['val_accuracy']\n",
        "loss = history.history['loss']\n",
        "val_loss = history.history['val_loss']\n",
        "\n",
        "epochs = range(len(acc))\n",
        "\n",
        "plt.plot(epochs, acc, 'bo', label='Training acc')\n",
        "plt.plot(epochs, val_acc, 'b', label='Validation acc')\n",
        "plt.title('Training and validation accuracy')\n",
        "plt.legend()\n",
        "\n",
        "plt.figure()\n",
        "\n",
        "plt.plot(epochs, loss, 'bo', label='Training loss')\n",
        "plt.plot(epochs, val_loss, 'b', label='Validation loss')\n",
        "plt.title('Training and validation loss')\n",
        "plt.legend()"
      ],
      "execution_count": 26,
      "outputs": [
        {
          "output_type": "execute_result",
          "data": {
            "text/plain": [
              "<matplotlib.legend.Legend at 0x7feb6d8a77d0>"
            ]
          },
          "metadata": {
            "tags": []
          },
          "execution_count": 26
        },
        {
          "output_type": "display_data",
          "data": {
            "image/png": "[encoded data removed]",
            "text/plain": [
              "<Figure size 432x288 with 1 Axes>"
            ]
          },
          "metadata": {
            "tags": [],
            "needs_background": "light"
          }
        },
        {
          "output_type": "display_data",
          "data": {
            "image/png": "[encoded data removed]",
            "text/plain": [
              "<Figure size 432x288 with 1 Axes>"
            ]
          },
          "metadata": {
            "tags": [],
            "needs_background": "light"
          }
        }
      ]
    },
    {
      "cell_type": "code",
      "metadata": {
        "colab": {
          "base_uri": "https://localhost:8080/"
        },
        "id": "k1G_tUfg_-aN",
        "outputId": "139c16ac-dd15-43ea-9f47-de5f056e597d"
      },
      "source": [
        "y_pred = model.predict_classes(x_test)"
      ],
      "execution_count": 27,
      "outputs": [
        {
          "output_type": "stream",
          "text": [
            "/usr/local/lib/python3.7/dist-packages/keras/engine/sequential.py:450: UserWarning: `model.predict_classes()` is deprecated and will be removed after 2021-01-01. Please use instead:* `np.argmax(model.predict(x), axis=-1)`,   if your model does multi-class classification   (e.g. if it uses a `softmax` last-layer activation).* `(model.predict(x) > 0.5).astype(\"int32\")`,   if your model does binary classification   (e.g. if it uses a `sigmoid` last-layer activation).\n",
            "  warnings.warn('`model.predict_classes()` is deprecated and '\n"
          ],
          "name": "stderr"
        }
      ]
    },
    {
      "cell_type": "code",
      "metadata": {
        "id": "X5Z-OfcaAGiZ"
      },
      "source": [
        "tn, fp, fn, tp = confusion_matrix(y_test, y_pred).ravel()"
      ],
      "execution_count": 28,
      "outputs": []
    },
    {
      "cell_type": "code",
      "metadata": {
        "colab": {
          "base_uri": "https://localhost:8080/"
        },
        "id": "rPOnPw0FAKDR",
        "outputId": "79f302e8-3788-4c97-f90f-b677d301203b"
      },
      "source": [
        "sp = tn/(tn+fp)\n",
        "sn = tp/(tp+fn)\n",
        "\n",
        "print('f1 score =  %.3f'%f1_score(y_test, y_pred))\n",
        "print('Precision =  %.3f'%precision_score(y_test, y_pred))\n",
        "print('Test accuracy =  %.3f'%accuracy_score(y_test, y_pred))\n",
        "print('Specificity =  %.3f'%sp)\n",
        "print('Sensitivity =  %.3f'%sn)"
      ],
      "execution_count": 29,
      "outputs": [
        {
          "output_type": "stream",
          "text": [
            "f1 score =  0.958\n",
            "Precision =  0.935\n",
            "Test accuracy =  0.956\n",
            "Specificity =  0.932\n",
            "Sensitivity =  0.981\n"
          ],
          "name": "stdout"
        }
      ]
    }
  ]
}