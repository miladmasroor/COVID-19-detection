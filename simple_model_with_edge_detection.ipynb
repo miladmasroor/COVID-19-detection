{
  "nbformat": 4,
  "nbformat_minor": 0,
  "metadata": {
    "colab": {
      "name": "simple_model_with_edge_detection.ipynb",
      "provenance": []
    },
    "kernelspec": {
      "name": "python3",
      "display_name": "Python 3"
    },
    "language_info": {
      "name": "python"
    },
    "accelerator": "GPU",
    "widgets": {
      "application/vnd.jupyter.widget-state+json": {
        "6d8a9d627bf242b09924e3621c8f8e4e": {
          "model_module": "@jupyter-widgets/controls",
          "model_name": "HBoxModel",
          "state": {
            "_view_name": "HBoxView",
            "_dom_classes": [],
            "_model_name": "HBoxModel",
            "_view_module": "@jupyter-widgets/controls",
            "_model_module_version": "1.5.0",
            "_view_count": null,
            "_view_module_version": "1.5.0",
            "box_style": "",
            "layout": "IPY_MODEL_ba4a915bcf9744608508d4e14533a7ae",
            "_model_module": "@jupyter-widgets/controls",
            "children": [
              "IPY_MODEL_86d99542967d47bea504494b19cc1367",
              "IPY_MODEL_ca44147cf9ee423995c06fc8283717bb"
            ]
          }
        },
        "ba4a915bcf9744608508d4e14533a7ae": {
          "model_module": "@jupyter-widgets/base",
          "model_name": "LayoutModel",
          "state": {
            "_view_name": "LayoutView",
            "grid_template_rows": null,
            "right": null,
            "justify_content": null,
            "_view_module": "@jupyter-widgets/base",
            "overflow": null,
            "_model_module_version": "1.2.0",
            "_view_count": null,
            "flex_flow": null,
            "width": null,
            "min_width": null,
            "border": null,
            "align_items": null,
            "bottom": null,
            "_model_module": "@jupyter-widgets/base",
            "top": null,
            "grid_column": null,
            "overflow_y": null,
            "overflow_x": null,
            "grid_auto_flow": null,
            "grid_area": null,
            "grid_template_columns": null,
            "flex": null,
            "_model_name": "LayoutModel",
            "justify_items": null,
            "grid_row": null,
            "max_height": null,
            "align_content": null,
            "visibility": null,
            "align_self": null,
            "height": null,
            "min_height": null,
            "padding": null,
            "grid_auto_rows": null,
            "grid_gap": null,
            "max_width": null,
            "order": null,
            "_view_module_version": "1.2.0",
            "grid_template_areas": null,
            "object_position": null,
            "object_fit": null,
            "grid_auto_columns": null,
            "margin": null,
            "display": null,
            "left": null
          }
        },
        "86d99542967d47bea504494b19cc1367": {
          "model_module": "@jupyter-widgets/controls",
          "model_name": "FloatProgressModel",
          "state": {
            "_view_name": "ProgressView",
            "style": "IPY_MODEL_424fd2701cd7440596d1108dbb40f9d7",
            "_dom_classes": [],
            "description": "100%",
            "_model_name": "FloatProgressModel",
            "bar_style": "success",
            "max": 6769,
            "_view_module": "@jupyter-widgets/controls",
            "_model_module_version": "1.5.0",
            "value": 6769,
            "_view_count": null,
            "_view_module_version": "1.5.0",
            "orientation": "horizontal",
            "min": 0,
            "description_tooltip": null,
            "_model_module": "@jupyter-widgets/controls",
            "layout": "IPY_MODEL_b4c8a8533cc24d28b06d7fd7604d8e63"
          }
        },
        "ca44147cf9ee423995c06fc8283717bb": {
          "model_module": "@jupyter-widgets/controls",
          "model_name": "HTMLModel",
          "state": {
            "_view_name": "HTMLView",
            "style": "IPY_MODEL_d4bb0595fdf14f1a94f6521df0631a99",
            "_dom_classes": [],
            "description": "",
            "_model_name": "HTMLModel",
            "placeholder": "​",
            "_view_module": "@jupyter-widgets/controls",
            "_model_module_version": "1.5.0",
            "value": " 6769/6769 [39:25&lt;00:00,  2.86it/s]",
            "_view_count": null,
            "_view_module_version": "1.5.0",
            "description_tooltip": null,
            "_model_module": "@jupyter-widgets/controls",
            "layout": "IPY_MODEL_a118290802c5454db77c785fd4a7d2ee"
          }
        },
        "424fd2701cd7440596d1108dbb40f9d7": {
          "model_module": "@jupyter-widgets/controls",
          "model_name": "ProgressStyleModel",
          "state": {
            "_view_name": "StyleView",
            "_model_name": "ProgressStyleModel",
            "description_width": "initial",
            "_view_module": "@jupyter-widgets/base",
            "_model_module_version": "1.5.0",
            "_view_count": null,
            "_view_module_version": "1.2.0",
            "bar_color": null,
            "_model_module": "@jupyter-widgets/controls"
          }
        },
        "b4c8a8533cc24d28b06d7fd7604d8e63": {
          "model_module": "@jupyter-widgets/base",
          "model_name": "LayoutModel",
          "state": {
            "_view_name": "LayoutView",
            "grid_template_rows": null,
            "right": null,
            "justify_content": null,
            "_view_module": "@jupyter-widgets/base",
            "overflow": null,
            "_model_module_version": "1.2.0",
            "_view_count": null,
            "flex_flow": null,
            "width": null,
            "min_width": null,
            "border": null,
            "align_items": null,
            "bottom": null,
            "_model_module": "@jupyter-widgets/base",
            "top": null,
            "grid_column": null,
            "overflow_y": null,
            "overflow_x": null,
            "grid_auto_flow": null,
            "grid_area": null,
            "grid_template_columns": null,
            "flex": null,
            "_model_name": "LayoutModel",
            "justify_items": null,
            "grid_row": null,
            "max_height": null,
            "align_content": null,
            "visibility": null,
            "align_self": null,
            "height": null,
            "min_height": null,
            "padding": null,
            "grid_auto_rows": null,
            "grid_gap": null,
            "max_width": null,
            "order": null,
            "_view_module_version": "1.2.0",
            "grid_template_areas": null,
            "object_position": null,
            "object_fit": null,
            "grid_auto_columns": null,
            "margin": null,
            "display": null,
            "left": null
          }
        },
        "d4bb0595fdf14f1a94f6521df0631a99": {
          "model_module": "@jupyter-widgets/controls",
          "model_name": "DescriptionStyleModel",
          "state": {
            "_view_name": "StyleView",
            "_model_name": "DescriptionStyleModel",
            "description_width": "",
            "_view_module": "@jupyter-widgets/base",
            "_model_module_version": "1.5.0",
            "_view_count": null,
            "_view_module_version": "1.2.0",
            "_model_module": "@jupyter-widgets/controls"
          }
        },
        "a118290802c5454db77c785fd4a7d2ee": {
          "model_module": "@jupyter-widgets/base",
          "model_name": "LayoutModel",
          "state": {
            "_view_name": "LayoutView",
            "grid_template_rows": null,
            "right": null,
            "justify_content": null,
            "_view_module": "@jupyter-widgets/base",
            "overflow": null,
            "_model_module_version": "1.2.0",
            "_view_count": null,
            "flex_flow": null,
            "width": null,
            "min_width": null,
            "border": null,
            "align_items": null,
            "bottom": null,
            "_model_module": "@jupyter-widgets/base",
            "top": null,
            "grid_column": null,
            "overflow_y": null,
            "overflow_x": null,
            "grid_auto_flow": null,
            "grid_area": null,
            "grid_template_columns": null,
            "flex": null,
            "_model_name": "LayoutModel",
            "justify_items": null,
            "grid_row": null,
            "max_height": null,
            "align_content": null,
            "visibility": null,
            "align_self": null,
            "height": null,
            "min_height": null,
            "padding": null,
            "grid_auto_rows": null,
            "grid_gap": null,
            "max_width": null,
            "order": null,
            "_view_module_version": "1.2.0",
            "grid_template_areas": null,
            "object_position": null,
            "object_fit": null,
            "grid_auto_columns": null,
            "margin": null,
            "display": null,
            "left": null
          }
        }
      }
    }
  },
  "cells": [
    {
      "cell_type": "code",
      "metadata": {
        "id": "uKFyDRV3atxr",
        "colab": {
          "base_uri": "https://localhost:8080/"
        },
        "outputId": "9afb49e8-4884-438f-ad26-2d44b71fe11a"
      },
      "source": [
        "from google.colab import drive\n",
        "drive.mount('/content/drive',force_remount=True)"
      ],
      "execution_count": 1,
      "outputs": [
        {
          "output_type": "stream",
          "text": [
            "Mounted at /content/drive\n"
          ],
          "name": "stdout"
        }
      ]
    },
    {
      "cell_type": "code",
      "metadata": {
        "id": "h2VEKRj-baQ3"
      },
      "source": [
        "import os\n",
        "import cv2\n",
        "import numpy as np\n",
        "import matplotlib.pyplot as plt\n",
        "from tqdm.notebook import tqdm\n",
        "import pandas as pd\n",
        "from keras import models\n",
        "from keras import layers\n",
        "from sklearn.model_selection import train_test_split\n",
        "from sklearn.metrics import f1_score, roc_curve, auc, precision_score, accuracy_score, confusion_matrix"
      ],
      "execution_count": 2,
      "outputs": []
    },
    {
      "cell_type": "code",
      "metadata": {
        "id": "KV6ilhTRbkZl"
      },
      "source": [
        "def read_image(filepath):\n",
        "    return cv2.imread(os.path.join(data_dir, filepath)) \n",
        "\n",
        "def resize_image(image, image_size):\n",
        "    return cv2.resize(image.copy(), image_size, interpolation = cv2.INTER_AREA)"
      ],
      "execution_count": 3,
      "outputs": []
    },
    {
      "cell_type": "code",
      "metadata": {
        "id": "R7QCg5pIdogQ"
      },
      "source": [
        "disease_types=['COVID', 'NON-COVID']\n",
        "data_dir = '/content/drive/MyDrive/Github_edge_1/Pretwitt_1'\n",
        "train_dir = os.path.join(data_dir)"
      ],
      "execution_count": 4,
      "outputs": []
    },
    {
      "cell_type": "code",
      "metadata": {
        "id": "gizHRsy5eTcH"
      },
      "source": [
        "train_data = []\n",
        "for defects_id, sp in enumerate(disease_types):\n",
        "    for file in os.listdir(os.path.join(train_dir, sp)):\n",
        "        train_data.append(['{}/{}'.format(sp, file), defects_id, sp])      \n",
        "train = pd.DataFrame(train_data, columns=['File', 'DiseaseID','Disease Type'])"
      ],
      "execution_count": 5,
      "outputs": []
    },
    {
      "cell_type": "code",
      "metadata": {
        "colab": {
          "base_uri": "https://localhost:8080/",
          "height": 417
        },
        "id": "MNx7Fef5eqn9",
        "outputId": "d4a4a60d-945f-4b2f-8d80-7cdff9e30337"
      },
      "source": [
        "train.head(6000)"
      ],
      "execution_count": 6,
      "outputs": [
        {
          "output_type": "execute_result",
          "data": {
            "text/html": [
              "<div>\n",
              "<style scoped>\n",
              "    .dataframe tbody tr th:only-of-type {\n",
              "        vertical-align: middle;\n",
              "    }\n",
              "\n",
              "    .dataframe tbody tr th {\n",
              "        vertical-align: top;\n",
              "    }\n",
              "\n",
              "    .dataframe thead th {\n",
              "        text-align: right;\n",
              "    }\n",
              "</style>\n",
              "<table border=\"1\" class=\"dataframe\">\n",
              "  <thead>\n",
              "    <tr style=\"text-align: right;\">\n",
              "      <th></th>\n",
              "      <th>File</th>\n",
              "      <th>DiseaseID</th>\n",
              "      <th>Disease Type</th>\n",
              "    </tr>\n",
              "  </thead>\n",
              "  <tbody>\n",
              "    <tr>\n",
              "      <th>0</th>\n",
              "      <td>COVID/img-2381.png</td>\n",
              "      <td>0</td>\n",
              "      <td>COVID</td>\n",
              "    </tr>\n",
              "    <tr>\n",
              "      <th>1</th>\n",
              "      <td>COVID/img-2382.png</td>\n",
              "      <td>0</td>\n",
              "      <td>COVID</td>\n",
              "    </tr>\n",
              "    <tr>\n",
              "      <th>2</th>\n",
              "      <td>COVID/img-2383.png</td>\n",
              "      <td>0</td>\n",
              "      <td>COVID</td>\n",
              "    </tr>\n",
              "    <tr>\n",
              "      <th>3</th>\n",
              "      <td>COVID/img-2384.png</td>\n",
              "      <td>0</td>\n",
              "      <td>COVID</td>\n",
              "    </tr>\n",
              "    <tr>\n",
              "      <th>4</th>\n",
              "      <td>COVID/img-2385.png</td>\n",
              "      <td>0</td>\n",
              "      <td>COVID</td>\n",
              "    </tr>\n",
              "    <tr>\n",
              "      <th>...</th>\n",
              "      <td>...</td>\n",
              "      <td>...</td>\n",
              "      <td>...</td>\n",
              "    </tr>\n",
              "    <tr>\n",
              "      <th>5995</th>\n",
              "      <td>NON-COVID/img-1005.png</td>\n",
              "      <td>1</td>\n",
              "      <td>NON-COVID</td>\n",
              "    </tr>\n",
              "    <tr>\n",
              "      <th>5996</th>\n",
              "      <td>NON-COVID/img-1006.png</td>\n",
              "      <td>1</td>\n",
              "      <td>NON-COVID</td>\n",
              "    </tr>\n",
              "    <tr>\n",
              "      <th>5997</th>\n",
              "      <td>NON-COVID/img-1007.png</td>\n",
              "      <td>1</td>\n",
              "      <td>NON-COVID</td>\n",
              "    </tr>\n",
              "    <tr>\n",
              "      <th>5998</th>\n",
              "      <td>NON-COVID/img-1008.png</td>\n",
              "      <td>1</td>\n",
              "      <td>NON-COVID</td>\n",
              "    </tr>\n",
              "    <tr>\n",
              "      <th>5999</th>\n",
              "      <td>NON-COVID/img-1009.png</td>\n",
              "      <td>1</td>\n",
              "      <td>NON-COVID</td>\n",
              "    </tr>\n",
              "  </tbody>\n",
              "</table>\n",
              "<p>6000 rows × 3 columns</p>\n",
              "</div>"
            ],
            "text/plain": [
              "                        File  DiseaseID Disease Type\n",
              "0         COVID/img-2381.png          0        COVID\n",
              "1         COVID/img-2382.png          0        COVID\n",
              "2         COVID/img-2383.png          0        COVID\n",
              "3         COVID/img-2384.png          0        COVID\n",
              "4         COVID/img-2385.png          0        COVID\n",
              "...                      ...        ...          ...\n",
              "5995  NON-COVID/img-1005.png          1    NON-COVID\n",
              "5996  NON-COVID/img-1006.png          1    NON-COVID\n",
              "5997  NON-COVID/img-1007.png          1    NON-COVID\n",
              "5998  NON-COVID/img-1008.png          1    NON-COVID\n",
              "5999  NON-COVID/img-1009.png          1    NON-COVID\n",
              "\n",
              "[6000 rows x 3 columns]"
            ]
          },
          "metadata": {
            "tags": []
          },
          "execution_count": 6
        }
      ]
    },
    {
      "cell_type": "code",
      "metadata": {
        "colab": {
          "base_uri": "https://localhost:8080/",
          "height": 99,
          "referenced_widgets": [
            "6d8a9d627bf242b09924e3621c8f8e4e",
            "ba4a915bcf9744608508d4e14533a7ae",
            "86d99542967d47bea504494b19cc1367",
            "ca44147cf9ee423995c06fc8283717bb",
            "424fd2701cd7440596d1108dbb40f9d7",
            "b4c8a8533cc24d28b06d7fd7604d8e63",
            "d4bb0595fdf14f1a94f6521df0631a99",
            "a118290802c5454db77c785fd4a7d2ee"
          ]
        },
        "id": "Pm_J9t7rfIVV",
        "outputId": "03d9b830-9f1e-4c03-a83d-5c94e57a28c5"
      },
      "source": [
        "IMAGE_SIZE = 64\n",
        "X = np.zeros((train.shape[0], IMAGE_SIZE, IMAGE_SIZE, 3))\n",
        "for i, file in tqdm(enumerate(train['File'].values), total = len(train)):\n",
        "    image = read_image(file)\n",
        "    if image is not None:\n",
        "        X[i] = resize_image(image, (IMAGE_SIZE, IMAGE_SIZE))\n",
        "X /= 255.        \n",
        "y = train['DiseaseID'].values\n",
        "print(X.shape)\n",
        "print(y.shape)"
      ],
      "execution_count": 7,
      "outputs": [
        {
          "output_type": "display_data",
          "data": {
            "application/vnd.jupyter.widget-view+json": {
              "model_id": "6d8a9d627bf242b09924e3621c8f8e4e",
              "version_minor": 0,
              "version_major": 2
            },
            "text/plain": [
              "HBox(children=(FloatProgress(value=0.0, max=6769.0), HTML(value='')))"
            ]
          },
          "metadata": {
            "tags": []
          }
        },
        {
          "output_type": "stream",
          "text": [
            "\n",
            "(6769, 64, 64, 3)\n",
            "(6769,)\n"
          ],
          "name": "stdout"
        }
      ]
    },
    {
      "cell_type": "code",
      "metadata": {
        "id": "aGQB0qxE0MCz"
      },
      "source": [
        "x_train, x_test, y_train, y_test = train_test_split(X, y, test_size=0.2, stratify=y, random_state = 1)"
      ],
      "execution_count": 8,
      "outputs": []
    },
    {
      "cell_type": "code",
      "metadata": {
        "id": "fTFSG9Sz0QQn"
      },
      "source": [
        "model = models.Sequential()\n",
        "model.add(layers.Conv2D(64, (3, 3), activation='relu', input_shape=(64, 64, 3)))\n",
        "model.add(layers.MaxPool2D((2, 2)))\n",
        "model.add(layers.Conv2D(256, (3, 3), activation='relu'))\n",
        "model.add(layers.MaxPool2D((2, 2)))\n",
        "model.add(layers.Dropout(0.5))\n",
        "model.add(layers.Conv2D(256, (3, 3), activation='relu'))\n",
        "model.add(layers.MaxPool2D((2, 2)))\n",
        "model.add(layers.Conv2D(256, (3, 3), activation='relu'))\n",
        "\n",
        "model.add(layers.Dropout(0.5))\n",
        "model.add(layers.Conv2D(528, (3, 3), activation='relu'))\n",
        "model.add(layers.MaxPool2D((2, 2)))\n",
        "\n",
        "\n",
        "model.add(layers.Flatten())\n",
        "model.add(layers.Dense(128, activation='relu'))\n",
        "model.add(layers.Dense(64, activation='relu'))\n",
        "model.add(layers.Dense(32, activation='relu'))\n",
        "model.add(layers.Dense(1, activation='sigmoid'))"
      ],
      "execution_count": 9,
      "outputs": []
    },
    {
      "cell_type": "code",
      "metadata": {
        "colab": {
          "base_uri": "https://localhost:8080/"
        },
        "id": "LRM8IOa90UHv",
        "outputId": "7531902c-a048-4405-aaa5-a88b5d004a0c"
      },
      "source": [
        "model.summary()"
      ],
      "execution_count": 10,
      "outputs": [
        {
          "output_type": "stream",
          "text": [
            "Model: \"sequential\"\n",
            "_________________________________________________________________\n",
            "Layer (type)                 Output Shape              Param #   \n",
            "=================================================================\n",
            "conv2d (Conv2D)              (None, 62, 62, 64)        1792      \n",
            "_________________________________________________________________\n",
            "max_pooling2d (MaxPooling2D) (None, 31, 31, 64)        0         \n",
            "_________________________________________________________________\n",
            "conv2d_1 (Conv2D)            (None, 29, 29, 256)       147712    \n",
            "_________________________________________________________________\n",
            "max_pooling2d_1 (MaxPooling2 (None, 14, 14, 256)       0         \n",
            "_________________________________________________________________\n",
            "dropout (Dropout)            (None, 14, 14, 256)       0         \n",
            "_________________________________________________________________\n",
            "conv2d_2 (Conv2D)            (None, 12, 12, 256)       590080    \n",
            "_________________________________________________________________\n",
            "max_pooling2d_2 (MaxPooling2 (None, 6, 6, 256)         0         \n",
            "_________________________________________________________________\n",
            "conv2d_3 (Conv2D)            (None, 4, 4, 256)         590080    \n",
            "_________________________________________________________________\n",
            "dropout_1 (Dropout)          (None, 4, 4, 256)         0         \n",
            "_________________________________________________________________\n",
            "conv2d_4 (Conv2D)            (None, 2, 2, 528)         1217040   \n",
            "_________________________________________________________________\n",
            "max_pooling2d_3 (MaxPooling2 (None, 1, 1, 528)         0         \n",
            "_________________________________________________________________\n",
            "flatten (Flatten)            (None, 528)               0         \n",
            "_________________________________________________________________\n",
            "dense (Dense)                (None, 128)               67712     \n",
            "_________________________________________________________________\n",
            "dense_1 (Dense)              (None, 64)                8256      \n",
            "_________________________________________________________________\n",
            "dense_2 (Dense)              (None, 32)                2080      \n",
            "_________________________________________________________________\n",
            "dense_3 (Dense)              (None, 1)                 33        \n",
            "=================================================================\n",
            "Total params: 2,624,785\n",
            "Trainable params: 2,624,785\n",
            "Non-trainable params: 0\n",
            "_________________________________________________________________\n"
          ],
          "name": "stdout"
        }
      ]
    },
    {
      "cell_type": "code",
      "metadata": {
        "id": "2MunlGY90YC_"
      },
      "source": [
        "model.compile(optimizer='rmsprop', loss='binary_crossentropy', metrics=['accuracy'])"
      ],
      "execution_count": 11,
      "outputs": []
    },
    {
      "cell_type": "code",
      "metadata": {
        "colab": {
          "base_uri": "https://localhost:8080/"
        },
        "id": "noZXyn-G0cpq",
        "outputId": "5099c843-ec18-4441-fc3f-66250d189bc9"
      },
      "source": [
        "history = model.fit(x_train, y_train,\n",
        "                    batch_size=64, epochs=100,steps_per_epoch=32,\n",
        "                    verbose=1,validation_split=0.1)"
      ],
      "execution_count": 13,
      "outputs": [
        {
          "output_type": "stream",
          "text": [
            "Epoch 1/100\n",
            "32/32 [==============================] - 1s 33ms/step - loss: 0.2511 - accuracy: 0.8994 - val_loss: 0.2278 - val_accuracy: 0.9280\n",
            "Epoch 2/100\n",
            "32/32 [==============================] - 1s 30ms/step - loss: 0.2471 - accuracy: 0.9004 - val_loss: 0.1924 - val_accuracy: 0.9280\n",
            "Epoch 3/100\n",
            "32/32 [==============================] - 1s 29ms/step - loss: 0.2427 - accuracy: 0.9047 - val_loss: 0.1803 - val_accuracy: 0.9336\n",
            "Epoch 4/100\n",
            "32/32 [==============================] - 1s 32ms/step - loss: 0.2065 - accuracy: 0.9175 - val_loss: 0.1670 - val_accuracy: 0.9354\n",
            "Epoch 5/100\n",
            "32/32 [==============================] - 1s 29ms/step - loss: 0.2347 - accuracy: 0.9072 - val_loss: 0.1953 - val_accuracy: 0.9244\n",
            "Epoch 6/100\n",
            "32/32 [==============================] - 1s 30ms/step - loss: 0.1987 - accuracy: 0.9204 - val_loss: 0.2298 - val_accuracy: 0.9022\n",
            "Epoch 7/100\n",
            "32/32 [==============================] - 1s 30ms/step - loss: 0.1622 - accuracy: 0.9399 - val_loss: 0.1640 - val_accuracy: 0.9410\n",
            "Epoch 8/100\n",
            "32/32 [==============================] - 1s 29ms/step - loss: 0.1813 - accuracy: 0.9288 - val_loss: 0.1251 - val_accuracy: 0.9502\n",
            "Epoch 9/100\n",
            "32/32 [==============================] - 1s 32ms/step - loss: 0.1574 - accuracy: 0.9390 - val_loss: 0.2411 - val_accuracy: 0.9114\n",
            "Epoch 10/100\n",
            "32/32 [==============================] - 1s 29ms/step - loss: 0.1725 - accuracy: 0.9358 - val_loss: 0.1507 - val_accuracy: 0.9391\n",
            "Epoch 11/100\n",
            "32/32 [==============================] - 1s 30ms/step - loss: 0.1378 - accuracy: 0.9497 - val_loss: 0.4536 - val_accuracy: 0.8708\n",
            "Epoch 12/100\n",
            "32/32 [==============================] - 1s 30ms/step - loss: 0.1514 - accuracy: 0.9438 - val_loss: 0.5295 - val_accuracy: 0.8210\n",
            "Epoch 13/100\n",
            "32/32 [==============================] - 1s 30ms/step - loss: 0.1326 - accuracy: 0.9493 - val_loss: 0.1147 - val_accuracy: 0.9520\n",
            "Epoch 14/100\n",
            "32/32 [==============================] - 1s 30ms/step - loss: 0.1640 - accuracy: 0.9414 - val_loss: 0.1425 - val_accuracy: 0.9354\n",
            "Epoch 15/100\n",
            "32/32 [==============================] - 1s 30ms/step - loss: 0.0952 - accuracy: 0.9644 - val_loss: 0.1433 - val_accuracy: 0.9539\n",
            "Epoch 16/100\n",
            "32/32 [==============================] - 1s 30ms/step - loss: 0.1481 - accuracy: 0.9419 - val_loss: 0.0961 - val_accuracy: 0.9649\n",
            "Epoch 17/100\n",
            "32/32 [==============================] - 1s 30ms/step - loss: 0.1067 - accuracy: 0.9609 - val_loss: 0.1767 - val_accuracy: 0.9280\n",
            "Epoch 18/100\n",
            "32/32 [==============================] - 1s 30ms/step - loss: 0.1017 - accuracy: 0.9619 - val_loss: 0.1598 - val_accuracy: 0.9446\n",
            "Epoch 19/100\n",
            "32/32 [==============================] - 1s 30ms/step - loss: 0.1189 - accuracy: 0.9614 - val_loss: 0.1220 - val_accuracy: 0.9557\n",
            "Epoch 20/100\n",
            "32/32 [==============================] - 1s 29ms/step - loss: 0.1265 - accuracy: 0.9508 - val_loss: 0.0999 - val_accuracy: 0.9613\n",
            "Epoch 21/100\n",
            "32/32 [==============================] - 1s 30ms/step - loss: 0.1162 - accuracy: 0.9575 - val_loss: 0.2650 - val_accuracy: 0.9133\n",
            "Epoch 22/100\n",
            "32/32 [==============================] - 1s 30ms/step - loss: 0.0998 - accuracy: 0.9634 - val_loss: 0.1451 - val_accuracy: 0.9502\n",
            "Epoch 23/100\n",
            "32/32 [==============================] - 1s 30ms/step - loss: 0.0908 - accuracy: 0.9697 - val_loss: 0.1457 - val_accuracy: 0.9446\n",
            "Epoch 24/100\n",
            "32/32 [==============================] - 1s 30ms/step - loss: 0.1032 - accuracy: 0.9609 - val_loss: 0.1076 - val_accuracy: 0.9594\n",
            "Epoch 25/100\n",
            "32/32 [==============================] - 1s 29ms/step - loss: 0.0789 - accuracy: 0.9699 - val_loss: 0.1146 - val_accuracy: 0.9520\n",
            "Epoch 26/100\n",
            "32/32 [==============================] - 1s 30ms/step - loss: 0.0883 - accuracy: 0.9683 - val_loss: 0.1140 - val_accuracy: 0.9576\n",
            "Epoch 27/100\n",
            "32/32 [==============================] - 1s 29ms/step - loss: 0.1033 - accuracy: 0.9654 - val_loss: 0.0919 - val_accuracy: 0.9631\n",
            "Epoch 28/100\n",
            "32/32 [==============================] - 1s 30ms/step - loss: 0.0803 - accuracy: 0.9697 - val_loss: 0.0987 - val_accuracy: 0.9557\n",
            "Epoch 29/100\n",
            "32/32 [==============================] - 1s 30ms/step - loss: 0.0999 - accuracy: 0.9699 - val_loss: 0.0973 - val_accuracy: 0.9631\n",
            "Epoch 30/100\n",
            "32/32 [==============================] - 1s 30ms/step - loss: 0.0652 - accuracy: 0.9766 - val_loss: 0.1619 - val_accuracy: 0.9428\n",
            "Epoch 31/100\n",
            "32/32 [==============================] - 1s 30ms/step - loss: 0.0703 - accuracy: 0.9736 - val_loss: 0.1108 - val_accuracy: 0.9539\n",
            "Epoch 32/100\n",
            "32/32 [==============================] - 1s 32ms/step - loss: 0.0693 - accuracy: 0.9744 - val_loss: 0.0850 - val_accuracy: 0.9613\n",
            "Epoch 33/100\n",
            "32/32 [==============================] - 1s 30ms/step - loss: 0.0741 - accuracy: 0.9712 - val_loss: 0.0814 - val_accuracy: 0.9613\n",
            "Epoch 34/100\n",
            "32/32 [==============================] - 1s 29ms/step - loss: 0.0713 - accuracy: 0.9754 - val_loss: 0.1432 - val_accuracy: 0.9483\n",
            "Epoch 35/100\n",
            "32/32 [==============================] - 1s 30ms/step - loss: 0.0843 - accuracy: 0.9712 - val_loss: 0.1034 - val_accuracy: 0.9594\n",
            "Epoch 36/100\n",
            "32/32 [==============================] - 1s 30ms/step - loss: 0.0616 - accuracy: 0.9771 - val_loss: 0.0931 - val_accuracy: 0.9723\n",
            "Epoch 37/100\n",
            "32/32 [==============================] - 1s 30ms/step - loss: 0.0687 - accuracy: 0.9754 - val_loss: 0.3985 - val_accuracy: 0.9096\n",
            "Epoch 38/100\n",
            "32/32 [==============================] - 1s 30ms/step - loss: 0.0673 - accuracy: 0.9795 - val_loss: 0.1136 - val_accuracy: 0.9613\n",
            "Epoch 39/100\n",
            "32/32 [==============================] - 1s 29ms/step - loss: 0.0715 - accuracy: 0.9764 - val_loss: 0.0862 - val_accuracy: 0.9686\n",
            "Epoch 40/100\n",
            "32/32 [==============================] - 1s 30ms/step - loss: 0.0732 - accuracy: 0.9766 - val_loss: 0.0727 - val_accuracy: 0.9686\n",
            "Epoch 41/100\n",
            "32/32 [==============================] - 1s 30ms/step - loss: 0.0393 - accuracy: 0.9865 - val_loss: 0.1606 - val_accuracy: 0.9576\n",
            "Epoch 42/100\n",
            "32/32 [==============================] - 1s 31ms/step - loss: 0.0713 - accuracy: 0.9771 - val_loss: 0.0816 - val_accuracy: 0.9742\n",
            "Epoch 43/100\n",
            "32/32 [==============================] - 1s 31ms/step - loss: 0.0507 - accuracy: 0.9810 - val_loss: 0.0948 - val_accuracy: 0.9668\n",
            "Epoch 44/100\n",
            "32/32 [==============================] - 1s 30ms/step - loss: 0.0547 - accuracy: 0.9824 - val_loss: 0.0918 - val_accuracy: 0.9649\n",
            "Epoch 45/100\n",
            "32/32 [==============================] - 1s 31ms/step - loss: 0.0835 - accuracy: 0.9814 - val_loss: 0.1492 - val_accuracy: 0.9373\n",
            "Epoch 46/100\n",
            "32/32 [==============================] - 1s 30ms/step - loss: 0.0553 - accuracy: 0.9824 - val_loss: 0.0867 - val_accuracy: 0.9760\n",
            "Epoch 47/100\n",
            "32/32 [==============================] - 1s 31ms/step - loss: 0.0710 - accuracy: 0.9751 - val_loss: 0.1208 - val_accuracy: 0.9520\n",
            "Epoch 48/100\n",
            "32/32 [==============================] - 1s 31ms/step - loss: 0.0427 - accuracy: 0.9863 - val_loss: 0.1117 - val_accuracy: 0.9649\n",
            "Epoch 49/100\n",
            "32/32 [==============================] - 1s 30ms/step - loss: 0.0619 - accuracy: 0.9789 - val_loss: 0.0741 - val_accuracy: 0.9760\n",
            "Epoch 50/100\n",
            "32/32 [==============================] - 1s 31ms/step - loss: 0.0505 - accuracy: 0.9858 - val_loss: 0.0876 - val_accuracy: 0.9760\n",
            "Epoch 51/100\n",
            "32/32 [==============================] - 1s 30ms/step - loss: 0.0473 - accuracy: 0.9829 - val_loss: 0.0779 - val_accuracy: 0.9668\n",
            "Epoch 52/100\n",
            "32/32 [==============================] - 1s 31ms/step - loss: 0.0779 - accuracy: 0.9795 - val_loss: 0.1038 - val_accuracy: 0.9631\n",
            "Epoch 53/100\n",
            "32/32 [==============================] - 1s 33ms/step - loss: 0.0680 - accuracy: 0.9799 - val_loss: 0.0536 - val_accuracy: 0.9815\n",
            "Epoch 54/100\n",
            "32/32 [==============================] - 1s 33ms/step - loss: 0.0464 - accuracy: 0.9858 - val_loss: 0.0631 - val_accuracy: 0.9686\n",
            "Epoch 55/100\n",
            "32/32 [==============================] - 1s 31ms/step - loss: 0.0408 - accuracy: 0.9883 - val_loss: 0.0899 - val_accuracy: 0.9723\n",
            "Epoch 56/100\n",
            "32/32 [==============================] - 1s 31ms/step - loss: 0.0536 - accuracy: 0.9819 - val_loss: 0.0894 - val_accuracy: 0.9631\n",
            "Epoch 57/100\n",
            "32/32 [==============================] - 1s 31ms/step - loss: 0.0451 - accuracy: 0.9883 - val_loss: 0.0826 - val_accuracy: 0.9649\n",
            "Epoch 58/100\n",
            "32/32 [==============================] - 1s 31ms/step - loss: 0.0556 - accuracy: 0.9814 - val_loss: 0.0727 - val_accuracy: 0.9649\n",
            "Epoch 59/100\n",
            "32/32 [==============================] - 1s 31ms/step - loss: 0.0247 - accuracy: 0.9912 - val_loss: 0.2104 - val_accuracy: 0.9410\n",
            "Epoch 60/100\n",
            "32/32 [==============================] - 1s 31ms/step - loss: 0.1091 - accuracy: 0.9678 - val_loss: 0.0939 - val_accuracy: 0.9613\n",
            "Epoch 61/100\n",
            "32/32 [==============================] - 1s 33ms/step - loss: 0.0348 - accuracy: 0.9910 - val_loss: 0.0754 - val_accuracy: 0.9686\n",
            "Epoch 62/100\n",
            "32/32 [==============================] - 1s 31ms/step - loss: 0.0615 - accuracy: 0.9761 - val_loss: 0.0551 - val_accuracy: 0.9815\n",
            "Epoch 63/100\n",
            "32/32 [==============================] - 1s 33ms/step - loss: 0.0458 - accuracy: 0.9865 - val_loss: 0.1935 - val_accuracy: 0.9446\n",
            "Epoch 64/100\n",
            "32/32 [==============================] - 1s 31ms/step - loss: 0.0670 - accuracy: 0.9819 - val_loss: 0.0541 - val_accuracy: 0.9779\n",
            "Epoch 65/100\n",
            "32/32 [==============================] - 1s 31ms/step - loss: 0.0503 - accuracy: 0.9854 - val_loss: 0.0567 - val_accuracy: 0.9797\n",
            "Epoch 66/100\n",
            "32/32 [==============================] - 1s 31ms/step - loss: 0.0461 - accuracy: 0.9858 - val_loss: 0.0793 - val_accuracy: 0.9742\n",
            "Epoch 67/100\n",
            "32/32 [==============================] - 1s 31ms/step - loss: 0.0441 - accuracy: 0.9849 - val_loss: 0.0788 - val_accuracy: 0.9797\n",
            "Epoch 68/100\n",
            "32/32 [==============================] - 1s 31ms/step - loss: 0.0468 - accuracy: 0.9834 - val_loss: 0.0707 - val_accuracy: 0.9705\n",
            "Epoch 69/100\n",
            "32/32 [==============================] - 1s 32ms/step - loss: 0.0496 - accuracy: 0.9868 - val_loss: 0.0655 - val_accuracy: 0.9742\n",
            "Epoch 70/100\n",
            "32/32 [==============================] - 1s 31ms/step - loss: 0.0438 - accuracy: 0.9880 - val_loss: 0.0514 - val_accuracy: 0.9779\n",
            "Epoch 71/100\n",
            "32/32 [==============================] - 1s 31ms/step - loss: 0.0396 - accuracy: 0.9873 - val_loss: 0.0619 - val_accuracy: 0.9779\n",
            "Epoch 72/100\n",
            "32/32 [==============================] - 1s 31ms/step - loss: 0.0415 - accuracy: 0.9844 - val_loss: 0.0738 - val_accuracy: 0.9723\n",
            "Epoch 73/100\n",
            "32/32 [==============================] - 1s 30ms/step - loss: 0.0308 - accuracy: 0.9895 - val_loss: 0.1735 - val_accuracy: 0.9613\n",
            "Epoch 74/100\n",
            "32/32 [==============================] - 1s 31ms/step - loss: 0.0417 - accuracy: 0.9858 - val_loss: 0.0803 - val_accuracy: 0.9723\n",
            "Epoch 75/100\n",
            "32/32 [==============================] - 1s 30ms/step - loss: 0.0498 - accuracy: 0.9885 - val_loss: 0.0622 - val_accuracy: 0.9834\n",
            "Epoch 76/100\n",
            "32/32 [==============================] - 1s 31ms/step - loss: 0.0421 - accuracy: 0.9883 - val_loss: 0.0504 - val_accuracy: 0.9797\n",
            "Epoch 77/100\n",
            "32/32 [==============================] - 1s 31ms/step - loss: 0.0511 - accuracy: 0.9809 - val_loss: 0.0518 - val_accuracy: 0.9815\n",
            "Epoch 78/100\n",
            "32/32 [==============================] - 1s 31ms/step - loss: 0.0338 - accuracy: 0.9893 - val_loss: 0.1315 - val_accuracy: 0.9613\n",
            "Epoch 79/100\n",
            "32/32 [==============================] - 1s 31ms/step - loss: 0.0324 - accuracy: 0.9912 - val_loss: 0.1194 - val_accuracy: 0.9815\n",
            "Epoch 80/100\n",
            "32/32 [==============================] - 1s 31ms/step - loss: 0.0536 - accuracy: 0.9844 - val_loss: 0.0719 - val_accuracy: 0.9723\n",
            "Epoch 81/100\n",
            "32/32 [==============================] - 1s 31ms/step - loss: 0.0328 - accuracy: 0.9878 - val_loss: 0.0526 - val_accuracy: 0.9723\n",
            "Epoch 82/100\n",
            "32/32 [==============================] - 1s 31ms/step - loss: 0.0426 - accuracy: 0.9875 - val_loss: 0.0916 - val_accuracy: 0.9539\n",
            "Epoch 83/100\n",
            "32/32 [==============================] - 1s 34ms/step - loss: 0.0445 - accuracy: 0.9897 - val_loss: 0.2525 - val_accuracy: 0.9225\n",
            "Epoch 84/100\n",
            "32/32 [==============================] - 1s 31ms/step - loss: 0.0285 - accuracy: 0.9917 - val_loss: 0.0833 - val_accuracy: 0.9723\n",
            "Epoch 85/100\n",
            "32/32 [==============================] - 1s 30ms/step - loss: 0.0478 - accuracy: 0.9834 - val_loss: 0.0562 - val_accuracy: 0.9779\n",
            "Epoch 86/100\n",
            "32/32 [==============================] - 1s 31ms/step - loss: 0.0430 - accuracy: 0.9858 - val_loss: 0.0543 - val_accuracy: 0.9797\n",
            "Epoch 87/100\n",
            "32/32 [==============================] - 1s 31ms/step - loss: 0.0406 - accuracy: 0.9895 - val_loss: 0.0663 - val_accuracy: 0.9723\n",
            "Epoch 88/100\n",
            "32/32 [==============================] - 1s 31ms/step - loss: 0.0254 - accuracy: 0.9932 - val_loss: 0.0645 - val_accuracy: 0.9760\n",
            "Epoch 89/100\n",
            "32/32 [==============================] - 1s 31ms/step - loss: 0.0349 - accuracy: 0.9897 - val_loss: 0.1643 - val_accuracy: 0.9649\n",
            "Epoch 90/100\n",
            "32/32 [==============================] - 1s 31ms/step - loss: 0.0341 - accuracy: 0.9885 - val_loss: 0.0379 - val_accuracy: 0.9852\n",
            "Epoch 91/100\n",
            "32/32 [==============================] - 1s 31ms/step - loss: 0.0453 - accuracy: 0.9844 - val_loss: 0.0543 - val_accuracy: 0.9760\n",
            "Epoch 92/100\n",
            "32/32 [==============================] - 1s 31ms/step - loss: 0.0331 - accuracy: 0.9880 - val_loss: 0.0819 - val_accuracy: 0.9723\n",
            "Epoch 93/100\n",
            "32/32 [==============================] - 1s 31ms/step - loss: 0.0284 - accuracy: 0.9907 - val_loss: 0.0601 - val_accuracy: 0.9797\n",
            "Epoch 94/100\n",
            "32/32 [==============================] - 1s 30ms/step - loss: 0.0422 - accuracy: 0.9875 - val_loss: 0.0401 - val_accuracy: 0.9852\n",
            "Epoch 95/100\n",
            "32/32 [==============================] - 1s 31ms/step - loss: 0.0332 - accuracy: 0.9868 - val_loss: 0.0510 - val_accuracy: 0.9797\n",
            "Epoch 96/100\n",
            "32/32 [==============================] - 1s 31ms/step - loss: 0.0540 - accuracy: 0.9858 - val_loss: 0.0550 - val_accuracy: 0.9852\n",
            "Epoch 97/100\n",
            "32/32 [==============================] - 1s 30ms/step - loss: 0.0274 - accuracy: 0.9895 - val_loss: 0.0679 - val_accuracy: 0.9797\n",
            "Epoch 98/100\n",
            "32/32 [==============================] - 1s 31ms/step - loss: 0.0378 - accuracy: 0.9897 - val_loss: 0.0336 - val_accuracy: 0.9889\n",
            "Epoch 99/100\n",
            "32/32 [==============================] - 1s 31ms/step - loss: 0.0203 - accuracy: 0.9910 - val_loss: 0.0306 - val_accuracy: 0.9871\n",
            "Epoch 100/100\n",
            "32/32 [==============================] - 1s 31ms/step - loss: 0.0386 - accuracy: 0.9883 - val_loss: 0.0470 - val_accuracy: 0.9723\n"
          ],
          "name": "stdout"
        }
      ]
    },
    {
      "cell_type": "code",
      "metadata": {
        "colab": {
          "base_uri": "https://localhost:8080/",
          "height": 562
        },
        "id": "An86fber_0bj",
        "outputId": "090f0dc5-1799-42c2-eb90-99cd483d8eb1"
      },
      "source": [
        "import matplotlib.pyplot as plt\n",
        "%matplotlib inline\n",
        "acc = history.history['accuracy']\n",
        "val_acc = history.history['val_accuracy']\n",
        "loss = history.history['loss']\n",
        "val_loss = history.history['val_loss']\n",
        "\n",
        "epochs = range(len(acc))\n",
        "\n",
        "plt.plot(epochs, acc, 'bo', label='Training acc')\n",
        "plt.plot(epochs, val_acc, 'b', label='Validation acc')\n",
        "plt.title('Training and validation accuracy')\n",
        "plt.legend()\n",
        "\n",
        "plt.figure()\n",
        "\n",
        "plt.plot(epochs, loss, 'bo', label='Training loss')\n",
        "plt.plot(epochs, val_loss, 'b', label='Validation loss')\n",
        "plt.title('Training and validation loss')\n",
        "plt.legend()"
      ],
      "execution_count": 14,
      "outputs": [
        {
          "output_type": "execute_result",
          "data": {
            "text/plain": [
              "<matplotlib.legend.Legend at 0x7f34a526ca50>"
            ]
          },
          "metadata": {
            "tags": []
          },
          "execution_count": 14
        },
        {
          "output_type": "display_data",
          "data": {
            "image/png": "[encoded data removed]",
            "text/plain": [
              "<Figure size 432x288 with 1 Axes>"
            ]
          },
          "metadata": {
            "tags": [],
            "needs_background": "light"
          }
        },
        {
          "output_type": "display_data",
          "data": {
            "image/png": "[encoded data removed]",
            "text/plain": [
              "<Figure size 432x288 with 1 Axes>"
            ]
          },
          "metadata": {
            "tags": [],
            "needs_background": "light"
          }
        }
      ]
    },
    {
      "cell_type": "code",
      "metadata": {
        "colab": {
          "base_uri": "https://localhost:8080/"
        },
        "id": "k1G_tUfg_-aN",
        "outputId": "0b3cbdd7-ca6f-4344-d555-3537ff1294ec"
      },
      "source": [
        "y_pred = model.predict_classes(x_test)"
      ],
      "execution_count": 15,
      "outputs": [
        {
          "output_type": "stream",
          "text": [
            "/usr/local/lib/python3.7/dist-packages/keras/engine/sequential.py:450: UserWarning: `model.predict_classes()` is deprecated and will be removed after 2021-01-01. Please use instead:* `np.argmax(model.predict(x), axis=-1)`,   if your model does multi-class classification   (e.g. if it uses a `softmax` last-layer activation).* `(model.predict(x) > 0.5).astype(\"int32\")`,   if your model does binary classification   (e.g. if it uses a `sigmoid` last-layer activation).\n",
            "  warnings.warn('`model.predict_classes()` is deprecated and '\n"
          ],
          "name": "stderr"
        }
      ]
    },
    {
      "cell_type": "code",
      "metadata": {
        "id": "X5Z-OfcaAGiZ"
      },
      "source": [
        "tn, fp, fn, tp = confusion_matrix(y_test, y_pred).ravel()"
      ],
      "execution_count": 16,
      "outputs": []
    },
    {
      "cell_type": "code",
      "metadata": {
        "colab": {
          "base_uri": "https://localhost:8080/"
        },
        "id": "rPOnPw0FAKDR",
        "outputId": "6178b5e7-1dc7-49e3-d304-6dc64221ff1c"
      },
      "source": [
        "sp = tn/(tn+fp)\n",
        "sn = tp/(tp+fn)\n",
        "\n",
        "print('f1 score =  %.3f'%f1_score(y_test, y_pred))\n",
        "print('Precision =  %.3f'%precision_score(y_test, y_pred))\n",
        "print('Test accuracy =  %.3f'%accuracy_score(y_test, y_pred))\n",
        "print('Specificity =  %.3f'%sp)\n",
        "print('Sensitivity =  %.3f'%sn)"
      ],
      "execution_count": 17,
      "outputs": [
        {
          "output_type": "stream",
          "text": [
            "f1 score =  0.971\n",
            "Precision =  0.979\n",
            "Test accuracy =  0.971\n",
            "Specificity =  0.979\n",
            "Sensitivity =  0.963\n"
          ],
          "name": "stdout"
        }
      ]
    }
  ]
}